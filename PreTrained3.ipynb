{
  "nbformat": 4,
  "nbformat_minor": 0,
  "metadata": {
    "colab": {
      "name": "PreTrained3.ipynb",
      "provenance": [],
      "include_colab_link": true
    },
    "kernelspec": {
      "name": "python3",
      "display_name": "Python 3"
    }
  },
  "cells": [
    {
      "cell_type": "markdown",
      "metadata": {
        "id": "view-in-github",
        "colab_type": "text"
      },
      "source": [
        "<a href=\"https://colab.research.google.com/github/AjayKumarGogineni777/Lung-Cancer-Classfication/blob/master/PreTrained3.ipynb\" target=\"_parent\"><img src=\"https://colab.research.google.com/assets/colab-badge.svg\" alt=\"Open In Colab\"/></a>"
      ]
    },
    {
      "cell_type": "code",
      "metadata": {
        "id": "szIDbLtWYCL4",
        "colab_type": "code",
        "colab": {}
      },
      "source": [
        "#### 2D CNN for lung cancer classification \n",
        "import fastai\n",
        "from fastai.conv_learner import *\n",
        "from fastai.dataset import *\n",
        "from fastai.models.resnet import vgg_resnet50\n",
        "from fastai.models.resnet import inceptionv4\n",
        "from fastai.models.resnet import resnext_50_32x4d\n",
        "from fastai.model import *\n",
        "\n",
        "import json\n",
        "import sklearn\n",
        "from  sklearn.metrics import cohen_kappa_score\n",
        "# !pip install tifffile\n",
        "# import tifffile\n",
        "from skimage import io"
      ],
      "execution_count": 0,
      "outputs": []
    },
    {
      "cell_type": "code",
      "metadata": {
        "id": "t8Wyin66Z4cI",
        "colab_type": "code",
        "colab": {}
      },
      "source": [
        "#np.random.seed(42)\n",
        "path2 = '/content/gdrive/My Drive/Cancer/data3/'\n",
        "data = ImageDataBunch.from_folder(path2, train=\"train\",valid='valid', valid_pct=None,\n",
        "        ds_tfms=get_transforms(), size=50, num_workers=4).normalize(imagenet_stats)"
      ],
      "execution_count": 0,
      "outputs": []
    },
    {
      "cell_type": "code",
      "metadata": {
        "id": "-4n2icQCaHuS",
        "colab_type": "code",
        "outputId": "36ac956b-65c7-42b9-9634-84604689ea54",
        "colab": {
          "base_uri": "https://localhost:8080/",
          "height": 34
        }
      },
      "source": [
        "data.classes, data.c, len(data.train_ds), len(data.valid_ds)"
      ],
      "execution_count": 0,
      "outputs": [
        {
          "output_type": "execute_result",
          "data": {
            "text/plain": [
              "(['neg', 'pos'], 2, 5187, 1297)"
            ]
          },
          "metadata": {
            "tags": []
          },
          "execution_count": 3
        }
      ]
    },
    {
      "cell_type": "code",
      "metadata": {
        "id": "IZKPNqhmwu1I",
        "colab_type": "code",
        "outputId": "730faffa-a263-4e2c-e70f-f2c3b9cf4391",
        "colab": {
          "base_uri": "https://localhost:8080/",
          "height": 52
        }
      },
      "source": [
        "from keras.preprocessing.image import ImageDataGenerator\n",
        "train_datagen = ImageDataGenerator(\n",
        "      rescale=1./255,\n",
        "      rotation_range=20,\n",
        "      width_shift_range=0.2,\n",
        "      height_shift_range=0.2,\n",
        "      horizontal_flip=True,\n",
        "      fill_mode='nearest')\n",
        " \n",
        "validation_datagen = ImageDataGenerator(rescale=1./255)\n",
        " \n",
        "# Change the batchsize according to your system RAM\n",
        "train_batchsize = 100\n",
        "val_batchsize = 10\n",
        "image_size = 50 \n",
        "train_data_dir = path2+'train'\n",
        "validation_data_dir = path2+'valid'\n",
        "train_generator = train_datagen.flow_from_directory(\n",
        "        train_data_dir,\n",
        "        classes=['neg','pos'],\n",
        "        target_size=(50, 50),\n",
        "        batch_size=32,\n",
        "        class_mode='binary')\n",
        "\n",
        "validation_generator = validation_datagen.flow_from_directory(\n",
        "        validation_data_dir,\n",
        "        classes=['neg','pos'],\n",
        "        target_size=(50, 50),\n",
        "        batch_size=16,\n",
        "        class_mode='binary')\n",
        " \n",
        "#validation_generator = validation_datagen.flow_from_directory(\n",
        " #       path2+'valid',\n",
        " #       target_size=(image_size, image_size),\n",
        "  #      batch_size=val_batchsize,\n",
        "   #     class_mode='binary',\n",
        "    #    shuffle=False)"
      ],
      "execution_count": 0,
      "outputs": [
        {
          "output_type": "stream",
          "text": [
            "Found 5187 images belonging to 2 classes.\n",
            "Found 1297 images belonging to 2 classes.\n"
          ],
          "name": "stdout"
        }
      ]
    },
    {
      "cell_type": "code",
      "metadata": {
        "id": "rTJH6VPWxsZy",
        "colab_type": "code",
        "colab": {}
      },
      "source": [
        "from keras import models\n",
        "from keras import layers\n",
        "from keras import optimizers"
      ],
      "execution_count": 0,
      "outputs": []
    },
    {
      "cell_type": "code",
      "metadata": {
        "id": "ILX7Uvkjxi6e",
        "colab_type": "code",
        "colab": {}
      },
      "source": [
        "model.compile(loss='categorical_crossentropy',\n",
        "              optimizer=optimizers.RMSprop(lr=1e-4),\n",
        "              metrics=['acc'])\n",
        "# Train the model\n",
        "history = model.fit_generator(\n",
        "      train_generator,\n",
        "      steps_per_epoch=train_generator.samples/train_generator.batch_size ,\n",
        "      epochs=10,\n",
        "      validation_data=validation_generator,\n",
        "      validation_steps=validation_generator.samples/validation_generator.batch_size,\n",
        "      verbose=1)"
      ],
      "execution_count": 0,
      "outputs": []
    },
    {
      "cell_type": "code",
      "metadata": {
        "id": "_oH7M6rtHdbo",
        "colab_type": "code",
        "colab": {}
      },
      "source": [
        "from keras.applications.resnet50 import ResNet50\n",
        "from keras.preprocessing import image\n",
        "from keras.applications.resnet50 import preprocess_input, decode_predictions\n",
        "import numpy as np\n",
        "\n",
        "model = ResNet50(weights='imagenet',include_top=False)"
      ],
      "execution_count": 0,
      "outputs": []
    },
    {
      "cell_type": "code",
      "metadata": {
        "id": "kf2LXQoTyhBu",
        "colab_type": "code",
        "colab": {}
      },
      "source": [
        "from keras.applications.inception_v3 import InceptionV3\n",
        "from keras.preprocessing import image\n",
        "from keras.models import Model\n",
        "from keras.layers import Dense, GlobalAveragePooling2D\n",
        "from keras import backend as K\n",
        "\n",
        "# create the base pre-trained model\n",
        "base_model = InceptionV3(weights='imagenet', include_top=False)\n",
        "\n",
        "# add a global spatial average pooling layer\n",
        "x = base_model.output\n",
        "x = GlobalAveragePooling2D()(x)\n",
        "# let's add a fully-connected layer\n",
        "x = Dense(1024, activation='relu')(x)\n",
        "# and a logistic layer -- let's say we have 200 classes\n",
        "predictions = Dense(1, activation='softmax')(x)\n",
        "\n",
        "# this is the model we will train\n",
        "model = Model(inputs=base_model.input, outputs=predictions)"
      ],
      "execution_count": 0,
      "outputs": []
    },
    {
      "cell_type": "code",
      "metadata": {
        "id": "h_9oyAmBypBa",
        "colab_type": "code",
        "colab": {}
      },
      "source": [
        "model.compile(optimizer='rmsprop', loss='binary_crossentropy')"
      ],
      "execution_count": 0,
      "outputs": []
    },
    {
      "cell_type": "code",
      "metadata": {
        "id": "J3Nc9d-xyuBP",
        "colab_type": "code",
        "outputId": "dee5fcd5-3abd-40f8-adb7-ccedca5616fc",
        "colab": {
          "base_uri": "https://localhost:8080/",
          "height": 34
        }
      },
      "source": [
        "history = model.fit_generator(\n",
        "      train_generator,\n",
        "      steps_per_epoch=train_generator.samples/train_generator.batch_size ,\n",
        "      epochs=10,\n",
        "      validation_data=validation_generator,\n",
        "      validation_steps=validation_generator.samples/validation_generator.batch_size)"
      ],
      "execution_count": 0,
      "outputs": [
        {
          "output_type": "stream",
          "text": [
            "Epoch 1/10\n"
          ],
          "name": "stdout"
        }
      ]
    },
    {
      "cell_type": "code",
      "metadata": {
        "id": "kifA1buUFYnN",
        "colab_type": "code",
        "colab": {}
      },
      "source": [
        "import tensorflow as tf\n",
        "opt_fn = tf.train.AdamOptimizer\n",
        "\n",
        "loss_fn = tf.losses.sparse_softmax_cross_entropy\n",
        "learn = TfLearner(data, model, opt_fn, loss_fn, metrics=accuracy)"
      ],
      "execution_count": 0,
      "outputs": []
    },
    {
      "cell_type": "code",
      "metadata": {
        "id": "r60ViwWyFYj7",
        "colab_type": "code",
        "colab": {}
      },
      "source": [
        ""
      ],
      "execution_count": 0,
      "outputs": []
    },
    {
      "cell_type": "code",
      "metadata": {
        "id": "BVyV6Uh-uK4V",
        "colab_type": "code",
        "colab": {}
      },
      "source": [
        "#import torchvision.models as models\n",
        "#resnet18 = models.resnet18()\n",
        "#alexnet = models.alexnet()\n",
        "#vgg16 = models.vgg16()\n",
        "#squeezenet = models.squeezenet1_0()\n",
        "#densenet = models.densenet161()\n",
        "#inception = models.inception_v3()"
      ],
      "execution_count": 0,
      "outputs": []
    },
    {
      "cell_type": "code",
      "metadata": {
        "id": "V-uhjBLvvZiH",
        "colab_type": "code",
        "colab": {}
      },
      "source": [
        "import torchvision.models as models2\n",
        "resnet18 = models2.resnet18(pretrained=True)\n",
        "alexnet = models2.alexnet(pretrained=True)\n",
        "squeezenet = models2.squeezenet1_0(pretrained=True)\n",
        "vgg16 = models2.vgg16(pretrained=True)\n",
        "densenet = models2.densenet161(pretrained=True)\n",
        "inception = models2.inception_v3(pretrained=True)"
      ],
      "execution_count": 0,
      "outputs": []
    },
    {
      "cell_type": "code",
      "metadata": {
        "id": "9xioXN0xUFAn",
        "colab_type": "code",
        "colab": {}
      },
      "source": [
        "def hinge(y_true, y_pred):\n",
        "    zero = torch.Tensor([0]) \n",
        "    return torch.sum(torch.max(zero, 0.5 - y_true * y_pred) ** 2)"
      ],
      "execution_count": 0,
      "outputs": []
    },
    {
      "cell_type": "code",
      "metadata": {
        "id": "UcJu5MdADk0l",
        "colab_type": "code",
        "colab": {}
      },
      "source": [
        "def weighted_mse_loss(input,target):\n",
        "    #alpha of 0.5 means half weight goes to first, remaining half split by remaining 15\n",
        "    weights = Variable(torch.Tensor([0.5,0.5/15,0.5/15,0.5/15,0.5/15,0.5/15,0.5/15,0.5/15,0.5/15,0.5/15,0.5/15,0.5/15,0.5/15,0.5/15,0.5/15,0.5/15])).cuda()  \n",
        "    pct_var = (input-target)**2\n",
        "    out = pct_var * weights.expand_as(target)\n",
        "    loss = out.mean() \n",
        "    return loss"
      ],
      "execution_count": 0,
      "outputs": []
    },
    {
      "cell_type": "code",
      "metadata": {
        "id": "wc9G1jTDHW9O",
        "colab_type": "code",
        "colab": {}
      },
      "source": [
        "def weighted_binary_cross_entropy(output, target, weights=None):\n",
        "        \n",
        "    if weights is not None:\n",
        "        assert len(weights) == 2\n",
        "        \n",
        "        loss = weights[1] * (target * torch.log(output)) + \\\n",
        "               weights[0] * ((1 - target) * torch.log(1 - output))\n",
        "    else:\n",
        "        loss = target * torch.log(output) + (1 - target) * torch.log(1 - output)\n",
        "\n",
        "    return torch.neg(torch.mean(loss))"
      ],
      "execution_count": 0,
      "outputs": []
    },
    {
      "cell_type": "code",
      "metadata": {
        "id": "Qfnin0g8ENQl",
        "colab_type": "code",
        "colab": {}
      },
      "source": [
        "### Loavsz Hinge loss\n",
        "##  helper function : MEAN\n",
        "def mean(l, ignore_nan=False, empty=0):\n",
        "    \"\"\"\n",
        "    nanmean compatible with generators.\n",
        "    \"\"\"\n",
        "    l = iter(l)\n",
        "    if ignore_nan:\n",
        "        l = ifilterfalse(isnan, l)\n",
        "    try:\n",
        "        n = 1\n",
        "        acc = next(l)\n",
        "    except StopIteration:\n",
        "        if empty == 'raise':\n",
        "            raise ValueError('Empty mean')\n",
        "        return empty\n",
        "    for n, v in enumerate(l, 2):\n",
        "        acc += v\n",
        "    if n == 1:\n",
        "        return acc\n",
        "    return acc / n\n",
        "  \n",
        "def lovasz_hinge(logits, labels, per_image=True, ignore=None):\n",
        "  \n",
        "    if per_image:\n",
        "        loss = mean(lovasz_hinge_flat(*flatten_binary_scores(log.unsqueeze(0), lab.unsqueeze(0), ignore))\n",
        "                          for log, lab in zip(logits, labels))\n",
        "    else:\n",
        "        loss = lovasz_hinge_flat(*flatten_binary_scores(logits, labels, ignore))\n",
        "    return loss\n",
        "\n",
        "\n",
        "def lovasz_hinge_flat(logits, labels):\n",
        "    \"\"\"\n",
        "    Binary Lovasz hinge loss\n",
        "      logits: [P] Variable, logits at each prediction (between -\\infty and +\\infty)\n",
        "      labels: [P] Tensor, binary ground truth labels (0 or 1)\n",
        "      ignore: label to ignore\n",
        "    \"\"\"\n",
        "    if len(labels) == 0:\n",
        "        # only void pixels, the gradients should be 0\n",
        "        return logits.sum() * 0.\n",
        "    signs = 2. * labels.float() - 1.\n",
        "    errors = (1. - logits * Variable(signs))\n",
        "    errors_sorted, perm = torch.sort(errors, dim=0, descending=True)\n",
        "    perm = perm.data\n",
        "    gt_sorted = labels[perm]\n",
        "    grad = lovasz_grad(gt_sorted)\n",
        "    loss = torch.dot(F.relu(errors_sorted), Variable(grad))\n",
        "    return loss\n"
      ],
      "execution_count": 0,
      "outputs": []
    },
    {
      "cell_type": "code",
      "metadata": {
        "id": "JmsS78-oGZhj",
        "colab_type": "code",
        "colab": {}
      },
      "source": [
        "import torch.nn as nn\n",
        "import torch.nn.functional as F\n"
      ],
      "execution_count": 0,
      "outputs": []
    },
    {
      "cell_type": "markdown",
      "metadata": {
        "id": "vSCvruw7gqX3",
        "colab_type": "text"
      },
      "source": [
        ""
      ]
    },
    {
      "cell_type": "code",
      "metadata": {
        "id": "YdSBNakcaYBJ",
        "colab_type": "code",
        "colab": {}
      },
      "source": [
        "#arch = models.darknet53\n",
        "#arch = vgg16\n",
        "learn = create_cnn(data, model23, metrics=error_rate)\n",
        "#learn.crit = lovasz_hinge\n",
        "#learn.crit = weighted_mse_loss\n",
        "#learn.crit = nn.BCELoss()"
      ],
      "execution_count": 0,
      "outputs": []
    },
    {
      "cell_type": "code",
      "metadata": {
        "id": "n3Dq7JNtShWT",
        "colab_type": "code",
        "colab": {}
      },
      "source": [
        "#w = torch.cuda.FloatTensor([1.0, 0.9, 1.1])\n",
        "#learn = create_cnn(data, models.resnet18, metrics = error_rate, loss_func=torch.nn.CrossEntropyLoss(weight=w))\n",
        "#learn.fit_one_cycle(1, 0.001)"
      ],
      "execution_count": 0,
      "outputs": []
    },
    {
      "cell_type": "code",
      "metadata": {
        "id": "RLVEEwbRUMi8",
        "colab_type": "code",
        "colab": {}
      },
      "source": [
        "#w = torch.cuda.FloatTensor([1.0, 0.9, 1.1])\n",
        "#learn = create_cnn(data, models2.densenet161, metrics = error_rate)"
      ],
      "execution_count": 0,
      "outputs": []
    },
    {
      "cell_type": "code",
      "metadata": {
        "id": "QHx9u2l2f9J6",
        "colab_type": "code",
        "colab": {}
      },
      "source": [
        "learn.fit_one_cycle(3)"
      ],
      "execution_count": 0,
      "outputs": []
    },
    {
      "cell_type": "code",
      "metadata": {
        "id": "SywILxz9gARo",
        "colab_type": "code",
        "colab": {}
      },
      "source": [
        "learn.save('stage-1-inception_v3')"
      ],
      "execution_count": 0,
      "outputs": []
    },
    {
      "cell_type": "code",
      "metadata": {
        "id": "3dWoav4vgENR",
        "colab_type": "code",
        "colab": {}
      },
      "source": [
        "learn.load('stage-1-inception_v3')"
      ],
      "execution_count": 0,
      "outputs": []
    },
    {
      "cell_type": "code",
      "metadata": {
        "id": "sMcRj7AFgHn5",
        "colab_type": "code",
        "colab": {}
      },
      "source": [
        "learn.unfreeze()"
      ],
      "execution_count": 0,
      "outputs": []
    },
    {
      "cell_type": "code",
      "metadata": {
        "id": "yKmQTa3egLRa",
        "colab_type": "code",
        "outputId": "05a5aaad-44b7-4109-9844-3363831f90e0",
        "colab": {
          "base_uri": "https://localhost:8080/",
          "height": 296
        }
      },
      "source": [
        "learn.lr_find()\n",
        "learn.recorder.plot()"
      ],
      "execution_count": 0,
      "outputs": [
        {
          "output_type": "display_data",
          "data": {
            "text/html": [
              ""
            ],
            "text/plain": [
              "<IPython.core.display.HTML object>"
            ]
          },
          "metadata": {
            "tags": []
          }
        },
        {
          "output_type": "stream",
          "text": [
            "LR Finder is complete, type {learner_name}.recorder.plot() to see the graph.\n"
          ],
          "name": "stdout"
        },
        {
          "output_type": "display_data",
          "data": {
            "image/png": "[encoded data removed]",
            "text/plain": [
              "<Figure size 432x288 with 1 Axes>"
            ]
          },
          "metadata": {
            "tags": []
          }
        }
      ]
    },
    {
      "cell_type": "code",
      "metadata": {
        "id": "0gSJLJkvgOkA",
        "colab_type": "code",
        "outputId": "03018586-2a54-49d4-eed0-f37d16925f29",
        "colab": {
          "base_uri": "https://localhost:8080/",
          "height": 251
        }
      },
      "source": [
        "learn.fit_one_cycle(6, max_lr=slice(3e-5,3e-4))"
      ],
      "execution_count": 0,
      "outputs": [
        {
          "output_type": "display_data",
          "data": {
            "text/html": [
              "Total time: 04:36 <p><table border=\"1\" class=\"dataframe\">\n",
              "  <thead>\n",
              "    <tr style=\"text-align: left;\">\n",
              "      <th>epoch</th>\n",
              "      <th>train_loss</th>\n",
              "      <th>valid_loss</th>\n",
              "      <th>error_rate</th>\n",
              "      <th>time</th>\n",
              "    </tr>\n",
              "  </thead>\n",
              "  <tbody>\n",
              "    <tr>\n",
              "      <td>1</td>\n",
              "      <td>0.189555</td>\n",
              "      <td>0.190692</td>\n",
              "      <td>0.062452</td>\n",
              "      <td>00:46</td>\n",
              "    </tr>\n",
              "    <tr>\n",
              "      <td>2</td>\n",
              "      <td>0.168761</td>\n",
              "      <td>0.179658</td>\n",
              "      <td>0.051658</td>\n",
              "      <td>00:46</td>\n",
              "    </tr>\n",
              "    <tr>\n",
              "      <td>3</td>\n",
              "      <td>0.128658</td>\n",
              "      <td>0.136615</td>\n",
              "      <td>0.047803</td>\n",
              "      <td>00:46</td>\n",
              "    </tr>\n",
              "    <tr>\n",
              "      <td>4</td>\n",
              "      <td>0.085604</td>\n",
              "      <td>0.130794</td>\n",
              "      <td>0.049345</td>\n",
              "      <td>00:46</td>\n",
              "    </tr>\n",
              "    <tr>\n",
              "      <td>5</td>\n",
              "      <td>0.062793</td>\n",
              "      <td>0.128444</td>\n",
              "      <td>0.046261</td>\n",
              "      <td>00:46</td>\n",
              "    </tr>\n",
              "    <tr>\n",
              "      <td>6</td>\n",
              "      <td>0.055126</td>\n",
              "      <td>0.128371</td>\n",
              "      <td>0.044719</td>\n",
              "      <td>00:45</td>\n",
              "    </tr>\n",
              "  </tbody>\n",
              "</table>"
            ],
            "text/plain": [
              "<IPython.core.display.HTML object>"
            ]
          },
          "metadata": {
            "tags": []
          }
        }
      ]
    },
    {
      "cell_type": "code",
      "metadata": {
        "id": "Rbzm8NHEgQW6",
        "colab_type": "code",
        "colab": {}
      },
      "source": [
        "learn.save('stage-2-inception_v3')"
      ],
      "execution_count": 0,
      "outputs": []
    },
    {
      "cell_type": "code",
      "metadata": {
        "id": "mwG8lNlLgUdc",
        "colab_type": "code",
        "colab": {}
      },
      "source": [
        "learn.load('stage-2-inception_v3');"
      ],
      "execution_count": 0,
      "outputs": []
    },
    {
      "cell_type": "code",
      "metadata": {
        "id": "NtLUnX4uQoNo",
        "colab_type": "code",
        "colab": {}
      },
      "source": [
        ""
      ],
      "execution_count": 0,
      "outputs": []
    },
    {
      "cell_type": "code",
      "metadata": {
        "id": "9HBf9eEJ71CI",
        "colab_type": "code",
        "colab": {}
      },
      "source": [
        ""
      ],
      "execution_count": 0,
      "outputs": []
    },
    {
      "cell_type": "code",
      "metadata": {
        "id": "CjZmQUi471KN",
        "colab_type": "code",
        "colab": {}
      },
      "source": [
        "import imageio as io\n",
        "train_dir = '/content/gdrive/My Drive/Cancer/data3/2D_fastai_1/train/pos'\n",
        "i1 = io.imread(train_dir+'/107.tif')\n",
        "i2 = io.imread(train_dir+'/1071.tif')\n",
        "import tensorflow as tf\n",
        "k1 = tf.stack([i1, i2], axis=-1)"
      ],
      "execution_count": 0,
      "outputs": []
    },
    {
      "cell_type": "code",
      "metadata": {
        "id": "n9w-BP2whnpJ",
        "colab_type": "code",
        "colab": {}
      },
      "source": [
        "a1 = learn.predict(i1)"
      ],
      "execution_count": 0,
      "outputs": []
    },
    {
      "cell_type": "code",
      "metadata": {
        "id": "Z0z3t7turBP5",
        "colab_type": "code",
        "colab": {}
      },
      "source": [
        ""
      ],
      "execution_count": 0,
      "outputs": []
    },
    {
      "cell_type": "code",
      "metadata": {
        "id": "6PVRRdvNlxfQ",
        "colab_type": "code",
        "outputId": "26aa4135-4522-40c8-9566-f5cf4eb39a06",
        "colab": {
          "base_uri": "https://localhost:8080/",
          "height": 251
        }
      },
      "source": [
        "learn.fit_one_cycle(6, max_lr=slice(4e-4,4e-3))"
      ],
      "execution_count": 0,
      "outputs": [
        {
          "output_type": "display_data",
          "data": {
            "text/html": [
              "Total time: 04:37 <p><table border=\"1\" class=\"dataframe\">\n",
              "  <thead>\n",
              "    <tr style=\"text-align: left;\">\n",
              "      <th>epoch</th>\n",
              "      <th>train_loss</th>\n",
              "      <th>valid_loss</th>\n",
              "      <th>error_rate</th>\n",
              "      <th>time</th>\n",
              "    </tr>\n",
              "  </thead>\n",
              "  <tbody>\n",
              "    <tr>\n",
              "      <td>1</td>\n",
              "      <td>0.138866</td>\n",
              "      <td>2.426551</td>\n",
              "      <td>0.242868</td>\n",
              "      <td>00:46</td>\n",
              "    </tr>\n",
              "    <tr>\n",
              "      <td>2</td>\n",
              "      <td>0.173774</td>\n",
              "      <td>0.316760</td>\n",
              "      <td>0.092521</td>\n",
              "      <td>00:46</td>\n",
              "    </tr>\n",
              "    <tr>\n",
              "      <td>3</td>\n",
              "      <td>0.164943</td>\n",
              "      <td>0.142464</td>\n",
              "      <td>0.054742</td>\n",
              "      <td>00:46</td>\n",
              "    </tr>\n",
              "    <tr>\n",
              "      <td>4</td>\n",
              "      <td>0.121328</td>\n",
              "      <td>0.103035</td>\n",
              "      <td>0.033924</td>\n",
              "      <td>00:45</td>\n",
              "    </tr>\n",
              "    <tr>\n",
              "      <td>5</td>\n",
              "      <td>0.092144</td>\n",
              "      <td>0.090671</td>\n",
              "      <td>0.027756</td>\n",
              "      <td>00:46</td>\n",
              "    </tr>\n",
              "    <tr>\n",
              "      <td>6</td>\n",
              "      <td>0.066915</td>\n",
              "      <td>0.087896</td>\n",
              "      <td>0.031611</td>\n",
              "      <td>00:46</td>\n",
              "    </tr>\n",
              "  </tbody>\n",
              "</table>"
            ],
            "text/plain": [
              "<IPython.core.display.HTML object>"
            ]
          },
          "metadata": {
            "tags": []
          }
        }
      ]
    },
    {
      "cell_type": "code",
      "metadata": {
        "id": "2ZuHdrCJl4OV",
        "colab_type": "code",
        "colab": {}
      },
      "source": [
        "learn.save('stage-3-inception_v3')"
      ],
      "execution_count": 0,
      "outputs": []
    },
    {
      "cell_type": "code",
      "metadata": {
        "id": "7if0_CSL4Fga",
        "colab_type": "code",
        "colab": {}
      },
      "source": [
        "learn.Precompute = 'False'\n"
      ],
      "execution_count": 0,
      "outputs": []
    },
    {
      "cell_type": "code",
      "metadata": {
        "id": "1LQISLBf6la7",
        "colab_type": "code",
        "colab": {}
      },
      "source": [
        "#learn.load('stage-3-vgg16')"
      ],
      "execution_count": 0,
      "outputs": []
    },
    {
      "cell_type": "code",
      "metadata": {
        "id": "Lc22pbFA2mEm",
        "colab_type": "code",
        "colab": {}
      },
      "source": [
        "import pandas as pd"
      ],
      "execution_count": 0,
      "outputs": []
    },
    {
      "cell_type": "code",
      "metadata": {
        "id": "taprqfKN2LyR",
        "colab_type": "code",
        "colab": {}
      },
      "source": [
        "preds,y,losses = learn.get_preds(with_loss = True)"
      ],
      "execution_count": 0,
      "outputs": []
    },
    {
      "cell_type": "code",
      "metadata": {
        "id": "mJY2QiMJ29jR",
        "colab_type": "code",
        "outputId": "a5363db2-448a-4940-9a49-9931d5f5cd6c",
        "colab": {
          "base_uri": "https://localhost:8080/",
          "height": 141
        }
      },
      "source": [
        "preds"
      ],
      "execution_count": 0,
      "outputs": [
        {
          "output_type": "execute_result",
          "data": {
            "text/plain": [
              "tensor([[1.1757e-02, 9.8824e-01],\n",
              "        [5.6446e-07, 1.0000e+00],\n",
              "        [3.6137e-01, 6.3863e-01],\n",
              "        ...,\n",
              "        [9.9954e-01, 4.6334e-04],\n",
              "        [9.9888e-01, 1.1241e-03],\n",
              "        [9.9931e-01, 6.9217e-04]])"
            ]
          },
          "metadata": {
            "tags": []
          },
          "execution_count": 110
        }
      ]
    },
    {
      "cell_type": "code",
      "metadata": {
        "id": "gTQ3OVBF_t1i",
        "colab_type": "code",
        "outputId": "d4b05366-b2b8-4142-98ec-20823c42d12c",
        "colab": {
          "base_uri": "https://localhost:8080/",
          "height": 34
        }
      },
      "source": [
        "y"
      ],
      "execution_count": 0,
      "outputs": [
        {
          "output_type": "execute_result",
          "data": {
            "text/plain": [
              "tensor([1, 1, 1,  ..., 0, 0, 0])"
            ]
          },
          "metadata": {
            "tags": []
          },
          "execution_count": 111
        }
      ]
    },
    {
      "cell_type": "code",
      "metadata": {
        "id": "PE8RzbjA5AC3",
        "colab_type": "code",
        "colab": {}
      },
      "source": [
        "import tensorflow as tf"
      ],
      "execution_count": 0,
      "outputs": []
    },
    {
      "cell_type": "code",
      "metadata": {
        "id": "VGpjE7m65CkN",
        "colab_type": "code",
        "colab": {}
      },
      "source": [
        "sess = tf.Session()"
      ],
      "execution_count": 0,
      "outputs": []
    },
    {
      "cell_type": "code",
      "metadata": {
        "id": "ZnBsCg_C5JoM",
        "colab_type": "code",
        "colab": {}
      },
      "source": [
        "with sess.as_default():\n",
        "  tensor = tf.constant(preds)\n",
        "  npa = tensor.eval()\n",
        "  t2 = tf.constant(y)\n",
        "  y_array = t2.eval()"
      ],
      "execution_count": 0,
      "outputs": []
    },
    {
      "cell_type": "code",
      "metadata": {
        "id": "ECicNIim5k2Z",
        "colab_type": "code",
        "outputId": "f271e0f9-75b7-49f3-f777-7c20f547421c",
        "colab": {
          "base_uri": "https://localhost:8080/",
          "height": 176
        }
      },
      "source": [
        "npa"
      ],
      "execution_count": 0,
      "outputs": [
        {
          "output_type": "execute_result",
          "data": {
            "text/plain": [
              "array([[1.175671e-02, 9.882433e-01],\n",
              "       [5.644562e-07, 9.999994e-01],\n",
              "       [3.613720e-01, 6.386279e-01],\n",
              "       [2.943840e-03, 9.970561e-01],\n",
              "       ...,\n",
              "       [9.420600e-01, 5.794002e-02],\n",
              "       [9.995366e-01, 4.633366e-04],\n",
              "       [9.988759e-01, 1.124129e-03],\n",
              "       [9.993079e-01, 6.921735e-04]], dtype=float32)"
            ]
          },
          "metadata": {
            "tags": []
          },
          "execution_count": 114
        }
      ]
    },
    {
      "cell_type": "code",
      "metadata": {
        "id": "CHmY9chO3Zsw",
        "colab_type": "code",
        "colab": {}
      },
      "source": [
        "k1 = preds.eval()"
      ],
      "execution_count": 0,
      "outputs": []
    },
    {
      "cell_type": "code",
      "metadata": {
        "id": "-K2vT4KM2nb_",
        "colab_type": "code",
        "colab": {}
      },
      "source": [
        "ds = pd.DataFrame(npa)\n",
        "ds.columns = data.classes"
      ],
      "execution_count": 0,
      "outputs": []
    },
    {
      "cell_type": "code",
      "metadata": {
        "id": "eSSSWM1m27Dm",
        "colab_type": "code",
        "outputId": "596ed018-1832-4a3e-c2c4-0c5b1ee7baab",
        "colab": {
          "base_uri": "https://localhost:8080/",
          "height": 34
        }
      },
      "source": [
        "data.classes"
      ],
      "execution_count": 0,
      "outputs": [
        {
          "output_type": "execute_result",
          "data": {
            "text/plain": [
              "['neg', 'pos']"
            ]
          },
          "metadata": {
            "tags": []
          },
          "execution_count": 116
        }
      ]
    },
    {
      "cell_type": "code",
      "metadata": {
        "id": "sDOv4hjmAEjg",
        "colab_type": "code",
        "outputId": "04996c83-c95b-43be-8316-5a78f3b3ccab",
        "colab": {
          "base_uri": "https://localhost:8080/",
          "height": 197
        }
      },
      "source": [
        "ds.head()"
      ],
      "execution_count": 0,
      "outputs": [
        {
          "output_type": "execute_result",
          "data": {
            "text/html": [
              "<div>\n",
              "<style scoped>\n",
              "    .dataframe tbody tr th:only-of-type {\n",
              "        vertical-align: middle;\n",
              "    }\n",
              "\n",
              "    .dataframe tbody tr th {\n",
              "        vertical-align: top;\n",
              "    }\n",
              "\n",
              "    .dataframe thead th {\n",
              "        text-align: right;\n",
              "    }\n",
              "</style>\n",
              "<table border=\"1\" class=\"dataframe\">\n",
              "  <thead>\n",
              "    <tr style=\"text-align: right;\">\n",
              "      <th></th>\n",
              "      <th>neg</th>\n",
              "      <th>pos</th>\n",
              "    </tr>\n",
              "  </thead>\n",
              "  <tbody>\n",
              "    <tr>\n",
              "      <th>0</th>\n",
              "      <td>1.175671e-02</td>\n",
              "      <td>0.988243</td>\n",
              "    </tr>\n",
              "    <tr>\n",
              "      <th>1</th>\n",
              "      <td>5.644562e-07</td>\n",
              "      <td>0.999999</td>\n",
              "    </tr>\n",
              "    <tr>\n",
              "      <th>2</th>\n",
              "      <td>3.613720e-01</td>\n",
              "      <td>0.638628</td>\n",
              "    </tr>\n",
              "    <tr>\n",
              "      <th>3</th>\n",
              "      <td>2.943840e-03</td>\n",
              "      <td>0.997056</td>\n",
              "    </tr>\n",
              "    <tr>\n",
              "      <th>4</th>\n",
              "      <td>3.864958e-04</td>\n",
              "      <td>0.999614</td>\n",
              "    </tr>\n",
              "  </tbody>\n",
              "</table>\n",
              "</div>"
            ],
            "text/plain": [
              "            neg       pos\n",
              "0  1.175671e-02  0.988243\n",
              "1  5.644562e-07  0.999999\n",
              "2  3.613720e-01  0.638628\n",
              "3  2.943840e-03  0.997056\n",
              "4  3.864958e-04  0.999614"
            ]
          },
          "metadata": {
            "tags": []
          },
          "execution_count": 117
        }
      ]
    },
    {
      "cell_type": "code",
      "metadata": {
        "id": "Dg4GBXPVAJAc",
        "colab_type": "code",
        "outputId": "d5a5c6fa-1a7a-4145-a030-1bc17f97361b",
        "colab": {
          "base_uri": "https://localhost:8080/",
          "height": 34
        }
      },
      "source": [
        "y_array"
      ],
      "execution_count": 0,
      "outputs": [
        {
          "output_type": "execute_result",
          "data": {
            "text/plain": [
              "array([1, 1, 1, 1, ..., 0, 0, 0, 0])"
            ]
          },
          "metadata": {
            "tags": []
          },
          "execution_count": 118
        }
      ]
    },
    {
      "cell_type": "code",
      "metadata": {
        "id": "R7Q1zr0427JI",
        "colab_type": "code",
        "colab": {}
      },
      "source": [
        "ds.to_csv('/content/gdrive/My Drive/Cancer/outputs_new/densenet.csv')"
      ],
      "execution_count": 0,
      "outputs": []
    },
    {
      "cell_type": "code",
      "metadata": {
        "id": "ByB6RZTY27HU",
        "colab_type": "code",
        "colab": {}
      },
      "source": [
        "#y_array.to_csv('/content/gdrive/My Drive/Cancer/outputs_new/labels_densenet.csv')\n",
        "\n",
        "pd.DataFrame(y_array).to_csv('/content/gdrive/My Drive/Cancer/outputs_new/original_labels_densenet.csv')"
      ],
      "execution_count": 0,
      "outputs": []
    },
    {
      "cell_type": "code",
      "metadata": {
        "id": "Q0Ogr8lBPYyO",
        "colab_type": "code",
        "colab": {}
      },
      "source": [
        ""
      ],
      "execution_count": 0,
      "outputs": []
    },
    {
      "cell_type": "code",
      "metadata": {
        "id": "QRZKf9uYPYvT",
        "colab_type": "code",
        "colab": {}
      },
      "source": [
        ""
      ],
      "execution_count": 0,
      "outputs": []
    },
    {
      "cell_type": "code",
      "metadata": {
        "id": "X0q_jv0tPYsd",
        "colab_type": "code",
        "colab": {}
      },
      "source": [
        ""
      ],
      "execution_count": 0,
      "outputs": []
    },
    {
      "cell_type": "code",
      "metadata": {
        "id": "gm3plW8LPYo8",
        "colab_type": "code",
        "colab": {}
      },
      "source": [
        ""
      ],
      "execution_count": 0,
      "outputs": []
    },
    {
      "cell_type": "code",
      "metadata": {
        "id": "jqROm-O74t98",
        "colab_type": "code",
        "outputId": "ef37b136-2118-459c-f3f2-e97a48a8aa27",
        "colab": {
          "base_uri": "https://localhost:8080/",
          "height": 211
        }
      },
      "source": [
        "learn.fit_one_cycle(8, max_lr=slice(4e-4,3e-3))"
      ],
      "execution_count": 0,
      "outputs": [
        {
          "output_type": "display_data",
          "data": {
            "text/html": [
              "Total time: 03:12 <p><table style='width:300px; margin-bottom:10px'>\n",
              "  <tr>\n",
              "    <th>epoch</th>\n",
              "    <th>train_loss</th>\n",
              "    <th>valid_loss</th>\n",
              "    <th>error_rate</th>\n",
              "  </tr>\n",
              "  <tr>\n",
              "    <th>1</th>\n",
              "    <th>0.152037</th>\n",
              "    <th>0.163035</th>\n",
              "    <th>0.059368</th>\n",
              "  </tr>\n",
              "  <tr>\n",
              "    <th>2</th>\n",
              "    <th>0.173245</th>\n",
              "    <th>0.291801</th>\n",
              "    <th>0.097918</th>\n",
              "  </tr>\n",
              "  <tr>\n",
              "    <th>3</th>\n",
              "    <th>0.176515</th>\n",
              "    <th>0.191296</th>\n",
              "    <th>0.074788</th>\n",
              "  </tr>\n",
              "  <tr>\n",
              "    <th>4</th>\n",
              "    <th>0.165590</th>\n",
              "    <th>0.155604</th>\n",
              "    <th>0.055513</th>\n",
              "  </tr>\n",
              "  <tr>\n",
              "    <th>5</th>\n",
              "    <th>0.154066</th>\n",
              "    <th>0.263169</th>\n",
              "    <th>0.083269</th>\n",
              "  </tr>\n",
              "  <tr>\n",
              "    <th>6</th>\n",
              "    <th>0.139251</th>\n",
              "    <th>0.159030</th>\n",
              "    <th>0.060910</th>\n",
              "  </tr>\n",
              "  <tr>\n",
              "    <th>7</th>\n",
              "    <th>0.111252</th>\n",
              "    <th>0.125425</th>\n",
              "    <th>0.043948</th>\n",
              "  </tr>\n",
              "  <tr>\n",
              "    <th>8</th>\n",
              "    <th>0.105864</th>\n",
              "    <th>0.130729</th>\n",
              "    <th>0.045490</th>\n",
              "  </tr>\n",
              "</table>\n"
            ],
            "text/plain": [
              "<IPython.core.display.HTML object>"
            ]
          },
          "metadata": {
            "tags": []
          }
        }
      ]
    },
    {
      "cell_type": "code",
      "metadata": {
        "id": "jp5AuhYG4zpP",
        "colab_type": "code",
        "colab": {}
      },
      "source": [
        "learn.save('stage-4-squeezenet')"
      ],
      "execution_count": 0,
      "outputs": []
    },
    {
      "cell_type": "code",
      "metadata": {
        "id": "N-piFucV40dL",
        "colab_type": "code",
        "outputId": "2f4bcbc4-2d23-4d89-e852-a82276ce81d1",
        "colab": {
          "base_uri": "https://localhost:8080/",
          "height": 3130
        }
      },
      "source": [
        "learn.load('stage-4-squeezenet')"
      ],
      "execution_count": 0,
      "outputs": [
        {
          "output_type": "execute_result",
          "data": {
            "text/plain": [
              "Learner(data=ImageDataBunch;\n",
              "\n",
              "Train: LabelList\n",
              "y: CategoryList (5187 items)\n",
              "[Category neg, Category neg, Category neg, Category neg, Category neg]...\n",
              "Path: /content/gdrive/My Drive/Cancer/data3\n",
              "x: ImageItemList (5187 items)\n",
              "[Image (3, 50, 50), Image (3, 50, 50), Image (3, 50, 50), Image (3, 50, 50), Image (3, 50, 50)]...\n",
              "Path: /content/gdrive/My Drive/Cancer/data3;\n",
              "\n",
              "Valid: LabelList\n",
              "y: CategoryList (1297 items)\n",
              "[Category pos, Category pos, Category pos, Category pos, Category pos]...\n",
              "Path: /content/gdrive/My Drive/Cancer/data3\n",
              "x: ImageItemList (1297 items)\n",
              "[Image (3, 50, 50), Image (3, 50, 50), Image (3, 50, 50), Image (3, 50, 50), Image (3, 50, 50)]...\n",
              "Path: /content/gdrive/My Drive/Cancer/data3;\n",
              "\n",
              "Test: None, model=Sequential(\n",
              "  (0): Sequential(\n",
              "    (0): Sequential(\n",
              "      (0): Conv2d(3, 96, kernel_size=(7, 7), stride=(2, 2))\n",
              "      (1): ReLU(inplace)\n",
              "      (2): MaxPool2d(kernel_size=3, stride=2, padding=0, dilation=1, ceil_mode=True)\n",
              "      (3): Fire(\n",
              "        (squeeze): Conv2d(96, 16, kernel_size=(1, 1), stride=(1, 1))\n",
              "        (squeeze_activation): ReLU(inplace)\n",
              "        (expand1x1): Conv2d(16, 64, kernel_size=(1, 1), stride=(1, 1))\n",
              "        (expand1x1_activation): ReLU(inplace)\n",
              "        (expand3x3): Conv2d(16, 64, kernel_size=(3, 3), stride=(1, 1), padding=(1, 1))\n",
              "        (expand3x3_activation): ReLU(inplace)\n",
              "      )\n",
              "      (4): Fire(\n",
              "        (squeeze): Conv2d(128, 16, kernel_size=(1, 1), stride=(1, 1))\n",
              "        (squeeze_activation): ReLU(inplace)\n",
              "        (expand1x1): Conv2d(16, 64, kernel_size=(1, 1), stride=(1, 1))\n",
              "        (expand1x1_activation): ReLU(inplace)\n",
              "        (expand3x3): Conv2d(16, 64, kernel_size=(3, 3), stride=(1, 1), padding=(1, 1))\n",
              "        (expand3x3_activation): ReLU(inplace)\n",
              "      )\n",
              "      (5): Fire(\n",
              "        (squeeze): Conv2d(128, 32, kernel_size=(1, 1), stride=(1, 1))\n",
              "        (squeeze_activation): ReLU(inplace)\n",
              "        (expand1x1): Conv2d(32, 128, kernel_size=(1, 1), stride=(1, 1))\n",
              "        (expand1x1_activation): ReLU(inplace)\n",
              "        (expand3x3): Conv2d(32, 128, kernel_size=(3, 3), stride=(1, 1), padding=(1, 1))\n",
              "        (expand3x3_activation): ReLU(inplace)\n",
              "      )\n",
              "      (6): MaxPool2d(kernel_size=3, stride=2, padding=0, dilation=1, ceil_mode=True)\n",
              "      (7): Fire(\n",
              "        (squeeze): Conv2d(256, 32, kernel_size=(1, 1), stride=(1, 1))\n",
              "        (squeeze_activation): ReLU(inplace)\n",
              "        (expand1x1): Conv2d(32, 128, kernel_size=(1, 1), stride=(1, 1))\n",
              "        (expand1x1_activation): ReLU(inplace)\n",
              "        (expand3x3): Conv2d(32, 128, kernel_size=(3, 3), stride=(1, 1), padding=(1, 1))\n",
              "        (expand3x3_activation): ReLU(inplace)\n",
              "      )\n",
              "      (8): Fire(\n",
              "        (squeeze): Conv2d(256, 48, kernel_size=(1, 1), stride=(1, 1))\n",
              "        (squeeze_activation): ReLU(inplace)\n",
              "        (expand1x1): Conv2d(48, 192, kernel_size=(1, 1), stride=(1, 1))\n",
              "        (expand1x1_activation): ReLU(inplace)\n",
              "        (expand3x3): Conv2d(48, 192, kernel_size=(3, 3), stride=(1, 1), padding=(1, 1))\n",
              "        (expand3x3_activation): ReLU(inplace)\n",
              "      )\n",
              "      (9): Fire(\n",
              "        (squeeze): Conv2d(384, 48, kernel_size=(1, 1), stride=(1, 1))\n",
              "        (squeeze_activation): ReLU(inplace)\n",
              "        (expand1x1): Conv2d(48, 192, kernel_size=(1, 1), stride=(1, 1))\n",
              "        (expand1x1_activation): ReLU(inplace)\n",
              "        (expand3x3): Conv2d(48, 192, kernel_size=(3, 3), stride=(1, 1), padding=(1, 1))\n",
              "        (expand3x3_activation): ReLU(inplace)\n",
              "      )\n",
              "      (10): Fire(\n",
              "        (squeeze): Conv2d(384, 64, kernel_size=(1, 1), stride=(1, 1))\n",
              "        (squeeze_activation): ReLU(inplace)\n",
              "        (expand1x1): Conv2d(64, 256, kernel_size=(1, 1), stride=(1, 1))\n",
              "        (expand1x1_activation): ReLU(inplace)\n",
              "        (expand3x3): Conv2d(64, 256, kernel_size=(3, 3), stride=(1, 1), padding=(1, 1))\n",
              "        (expand3x3_activation): ReLU(inplace)\n",
              "      )\n",
              "      (11): MaxPool2d(kernel_size=3, stride=2, padding=0, dilation=1, ceil_mode=True)\n",
              "      (12): Fire(\n",
              "        (squeeze): Conv2d(512, 64, kernel_size=(1, 1), stride=(1, 1))\n",
              "        (squeeze_activation): ReLU(inplace)\n",
              "        (expand1x1): Conv2d(64, 256, kernel_size=(1, 1), stride=(1, 1))\n",
              "        (expand1x1_activation): ReLU(inplace)\n",
              "        (expand3x3): Conv2d(64, 256, kernel_size=(3, 3), stride=(1, 1), padding=(1, 1))\n",
              "        (expand3x3_activation): ReLU(inplace)\n",
              "      )\n",
              "    )\n",
              "  )\n",
              "  (1): Sequential(\n",
              "    (0): AdaptiveConcatPool2d(\n",
              "      (ap): AdaptiveAvgPool2d(output_size=1)\n",
              "      (mp): AdaptiveMaxPool2d(output_size=1)\n",
              "    )\n",
              "    (1): Flatten()\n",
              "    (2): BatchNorm1d(1024, eps=1e-05, momentum=0.1, affine=True, track_running_stats=True)\n",
              "    (3): Dropout(p=0.25)\n",
              "    (4): Linear(in_features=1024, out_features=512, bias=True)\n",
              "    (5): ReLU(inplace)\n",
              "    (6): BatchNorm1d(512, eps=1e-05, momentum=0.1, affine=True, track_running_stats=True)\n",
              "    (7): Dropout(p=0.5)\n",
              "    (8): Linear(in_features=512, out_features=2, bias=True)\n",
              "  )\n",
              "), opt_func=functools.partial(<class 'torch.optim.adam.Adam'>, betas=(0.9, 0.99)), loss_func=FlattenedLoss of CrossEntropyLoss(), metrics=[<function error_rate at 0x7f99e72f4268>], true_wd=True, bn_wd=True, wd=0.01, train_bn=True, path=PosixPath('/content/gdrive/My Drive/Cancer/data3'), model_dir='models', callback_fns=[<class 'fastai.basic_train.Recorder'>], callbacks=[], layer_groups=[Sequential(\n",
              "  (0): Conv2d(3, 96, kernel_size=(7, 7), stride=(2, 2))\n",
              "  (1): ReLU(inplace)\n",
              "  (2): MaxPool2d(kernel_size=3, stride=2, padding=0, dilation=1, ceil_mode=True)\n",
              "  (3): Conv2d(96, 16, kernel_size=(1, 1), stride=(1, 1))\n",
              "  (4): ReLU(inplace)\n",
              "  (5): Conv2d(16, 64, kernel_size=(1, 1), stride=(1, 1))\n",
              "  (6): ReLU(inplace)\n",
              "  (7): Conv2d(16, 64, kernel_size=(3, 3), stride=(1, 1), padding=(1, 1))\n",
              "  (8): ReLU(inplace)\n",
              "  (9): Conv2d(128, 16, kernel_size=(1, 1), stride=(1, 1))\n",
              "  (10): ReLU(inplace)\n",
              "  (11): Conv2d(16, 64, kernel_size=(1, 1), stride=(1, 1))\n",
              "  (12): ReLU(inplace)\n",
              "  (13): Conv2d(16, 64, kernel_size=(3, 3), stride=(1, 1), padding=(1, 1))\n",
              "  (14): ReLU(inplace)\n",
              "), Sequential(\n",
              "  (0): Conv2d(128, 32, kernel_size=(1, 1), stride=(1, 1))\n",
              "  (1): ReLU(inplace)\n",
              "  (2): Conv2d(32, 128, kernel_size=(1, 1), stride=(1, 1))\n",
              "  (3): ReLU(inplace)\n",
              "  (4): Conv2d(32, 128, kernel_size=(3, 3), stride=(1, 1), padding=(1, 1))\n",
              "  (5): ReLU(inplace)\n",
              "  (6): MaxPool2d(kernel_size=3, stride=2, padding=0, dilation=1, ceil_mode=True)\n",
              "  (7): Conv2d(256, 32, kernel_size=(1, 1), stride=(1, 1))\n",
              "  (8): ReLU(inplace)\n",
              "  (9): Conv2d(32, 128, kernel_size=(1, 1), stride=(1, 1))\n",
              "  (10): ReLU(inplace)\n",
              "  (11): Conv2d(32, 128, kernel_size=(3, 3), stride=(1, 1), padding=(1, 1))\n",
              "  (12): ReLU(inplace)\n",
              "), Sequential(\n",
              "  (0): Conv2d(256, 48, kernel_size=(1, 1), stride=(1, 1))\n",
              "  (1): ReLU(inplace)\n",
              "  (2): Conv2d(48, 192, kernel_size=(1, 1), stride=(1, 1))\n",
              "  (3): ReLU(inplace)\n",
              "  (4): Conv2d(48, 192, kernel_size=(3, 3), stride=(1, 1), padding=(1, 1))\n",
              "  (5): ReLU(inplace)\n",
              "  (6): Conv2d(384, 48, kernel_size=(1, 1), stride=(1, 1))\n",
              "  (7): ReLU(inplace)\n",
              "  (8): Conv2d(48, 192, kernel_size=(1, 1), stride=(1, 1))\n",
              "  (9): ReLU(inplace)\n",
              "  (10): Conv2d(48, 192, kernel_size=(3, 3), stride=(1, 1), padding=(1, 1))\n",
              "  (11): ReLU(inplace)\n",
              "  (12): Conv2d(384, 64, kernel_size=(1, 1), stride=(1, 1))\n",
              "  (13): ReLU(inplace)\n",
              "  (14): Conv2d(64, 256, kernel_size=(1, 1), stride=(1, 1))\n",
              "  (15): ReLU(inplace)\n",
              "  (16): Conv2d(64, 256, kernel_size=(3, 3), stride=(1, 1), padding=(1, 1))\n",
              "  (17): ReLU(inplace)\n",
              "  (18): MaxPool2d(kernel_size=3, stride=2, padding=0, dilation=1, ceil_mode=True)\n",
              "  (19): Conv2d(512, 64, kernel_size=(1, 1), stride=(1, 1))\n",
              "  (20): ReLU(inplace)\n",
              "  (21): Conv2d(64, 256, kernel_size=(1, 1), stride=(1, 1))\n",
              "  (22): ReLU(inplace)\n",
              "  (23): Conv2d(64, 256, kernel_size=(3, 3), stride=(1, 1), padding=(1, 1))\n",
              "  (24): ReLU(inplace)\n",
              "), Sequential(\n",
              "  (0): AdaptiveAvgPool2d(output_size=1)\n",
              "  (1): AdaptiveMaxPool2d(output_size=1)\n",
              "  (2): Flatten()\n",
              "  (3): BatchNorm1d(1024, eps=1e-05, momentum=0.1, affine=True, track_running_stats=True)\n",
              "  (4): Dropout(p=0.25)\n",
              "  (5): Linear(in_features=1024, out_features=512, bias=True)\n",
              "  (6): ReLU(inplace)\n",
              "  (7): BatchNorm1d(512, eps=1e-05, momentum=0.1, affine=True, track_running_stats=True)\n",
              "  (8): Dropout(p=0.5)\n",
              "  (9): Linear(in_features=512, out_features=2, bias=True)\n",
              ")])"
            ]
          },
          "metadata": {
            "tags": []
          },
          "execution_count": 61
        }
      ]
    },
    {
      "cell_type": "code",
      "metadata": {
        "id": "38nCXsS0oSD4",
        "colab_type": "code",
        "outputId": "3758f872-fa14-47ab-d0ce-ae189217debb",
        "colab": {
          "base_uri": "https://localhost:8080/",
          "height": 311
        }
      },
      "source": [
        "interp = ClassificationInterpretation.from_learner(learn)\n",
        "interp.plot_confusion_matrix()"
      ],
      "execution_count": 0,
      "outputs": [
        {
          "output_type": "display_data",
          "data": {
            "image/png": "[encoded data removed]",
            "text/plain": [
              "<Figure size 432x288 with 1 Axes>"
            ]
          },
          "metadata": {
            "tags": []
          }
        }
      ]
    },
    {
      "cell_type": "code",
      "metadata": {
        "id": "xwUqwhUgrHPb",
        "colab_type": "code",
        "colab": {}
      },
      "source": [
        "interp.plot_top_losses(4, figsize=(15,15))\n"
      ],
      "execution_count": 0,
      "outputs": []
    },
    {
      "cell_type": "code",
      "metadata": {
        "id": "J6bu2oTfobHw",
        "colab_type": "code",
        "colab": {}
      },
      "source": [
        "interp = ClassificationInterpretation.from_learner(learn)\n",
        "interp.plot_confusion_matrix()\n",
        "plt.savefig('/content/gdrive/My Drive/Cancer/data3/squeezenet_confusion_matrix.jpg')"
      ],
      "execution_count": 0,
      "outputs": []
    },
    {
      "cell_type": "code",
      "metadata": {
        "id": "FIhHi_XLzlfw",
        "colab_type": "code",
        "colab": {}
      },
      "source": [
        "k1 = data.valid_ds;k1"
      ],
      "execution_count": 0,
      "outputs": []
    },
    {
      "cell_type": "code",
      "metadata": {
        "id": "X4lCvFer0sbn",
        "colab_type": "code",
        "colab": {}
      },
      "source": [
        "img = learn.data.valid_ds[0][0]"
      ],
      "execution_count": 0,
      "outputs": []
    },
    {
      "cell_type": "code",
      "metadata": {
        "id": "WRCXxkdDy9Lm",
        "colab_type": "code",
        "colab": {}
      },
      "source": [
        "log_preds,y = learn.TTA()\n",
        "probs = np.mean(np.exp(log_preds),0)"
      ],
      "execution_count": 0,
      "outputs": []
    },
    {
      "cell_type": "code",
      "metadata": {
        "id": "i0EhQRWtTMor",
        "colab_type": "code",
        "colab": {}
      },
      "source": [
        "log_preds2,y = learn.pre()"
      ],
      "execution_count": 0,
      "outputs": []
    },
    {
      "cell_type": "code",
      "metadata": {
        "id": "ZntOwf9OCn4d",
        "colab_type": "code",
        "outputId": "70cdb30c-7742-4820-8be2-8ffd481b6a31",
        "colab": {
          "base_uri": "https://localhost:8080/",
          "height": 136
        }
      },
      "source": [
        "log_preds"
      ],
      "execution_count": 0,
      "outputs": [
        {
          "output_type": "execute_result",
          "data": {
            "text/plain": [
              "tensor([[3.5068e-01, 6.4932e-01],\n",
              "        [3.2615e-02, 9.6738e-01],\n",
              "        [5.0763e-01, 4.9237e-01],\n",
              "        ...,\n",
              "        [9.9920e-01, 7.9642e-04],\n",
              "        [8.4543e-01, 1.5457e-01],\n",
              "        [9.9456e-01, 5.4394e-03]])"
            ]
          },
          "metadata": {
            "tags": []
          },
          "execution_count": 27
        }
      ]
    }
  ]
}