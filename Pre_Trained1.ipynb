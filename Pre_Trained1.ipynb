{
  "nbformat": 4,
  "nbformat_minor": 0,
  "metadata": {
    "colab": {
      "name": "Pre-Trained1.ipynb",
      "provenance": [],
      "include_colab_link": true
    },
    "kernelspec": {
      "name": "python3",
      "display_name": "Python 3"
    }
  },
  "cells": [
    {
      "cell_type": "markdown",
      "metadata": {
        "id": "view-in-github",
        "colab_type": "text"
      },
      "source": [
        "<a href=\"https://colab.research.google.com/github/AjayKumarGogineni777/Lung-Cancer-Classfication/blob/master/Pre_Trained1.ipynb\" target=\"_parent\"><img src=\"https://colab.research.google.com/assets/colab-badge.svg\" alt=\"Open In Colab\"/></a>"
      ]
    },
    {
      "cell_type": "code",
      "metadata": {
        "id": "6p3vD2SRCNWq",
        "colab_type": "code",
        "colab": {}
      },
      "source": [
        "#### Lung Cancer Classification using DenseNet161, ResNext, SeResNext, ResNet50 "
      ],
      "execution_count": 0,
      "outputs": []
    },
    {
      "cell_type": "code",
      "metadata": {
        "id": "XCUu8CFKX_x1",
        "colab_type": "code",
        "outputId": "dfbdc444-f458-4ddc-d66c-c06bc58e7c8d",
        "colab": {
          "base_uri": "https://localhost:8080/",
          "height": 122
        }
      },
      "source": [
        "%reload_ext autoreload\n",
        "%autoreload 2\n",
        "%matplotlib inline\n",
        "import fastai\n",
        "from google.colab import drive\n",
        "drive.mount('/content/gdrive')\n",
        "## Course v3\n",
        "from fastai.vision import *\n",
        "from fastai.metrics import error_rate"
      ],
      "execution_count": 0,
      "outputs": [
        {
          "output_type": "stream",
          "text": [
            "Go to this URL in a browser: https://accounts.google.com/o/oauth2/auth?client_id=947318989803-6bn6qk8qdgf4n4g3pfee6491hc0brc4i.apps.googleusercontent.com&redirect_uri=urn%3Aietf%3Awg%3Aoauth%3A2.0%3Aoob&scope=email%20https%3A%2F%2Fwww.googleapis.com%2Fauth%2Fdocs.test%20https%3A%2F%2Fwww.googleapis.com%2Fauth%2Fdrive%20https%3A%2F%2Fwww.googleapis.com%2Fauth%2Fdrive.photos.readonly%20https%3A%2F%2Fwww.googleapis.com%2Fauth%2Fpeopleapi.readonly&response_type=code\n",
            "\n",
            "Enter your authorization code:\n",
            "··········\n",
            "Mounted at /content/gdrive\n"
          ],
          "name": "stdout"
        }
      ]
    },
    {
      "cell_type": "code",
      "metadata": {
        "id": "SfVnvov6JTlr",
        "colab_type": "code",
        "colab": {}
      },
      "source": [
        "#### Path of data\n",
        "PATH = '/content/gdrive/My Drive/Cancer/CD output_2L/'\n"
      ],
      "execution_count": 0,
      "outputs": []
    },
    {
      "cell_type": "code",
      "metadata": {
        "id": "Ed1KbA5IJYup",
        "colab_type": "code",
        "outputId": "16bbf89c-d88f-4f7a-bbbd-bf127a56a0bc",
        "colab": {
          "base_uri": "https://localhost:8080/",
          "height": 417
        }
      },
      "source": [
        "!pip install pretrainedmodels"
      ],
      "execution_count": 0,
      "outputs": [
        {
          "output_type": "stream",
          "text": [
            "Collecting pretrainedmodels\n",
            "\u001b[?25l  Downloading https://files.pythonhosted.org/packages/84/0e/be6a0e58447ac16c938799d49bfb5fb7a80ac35e137547fc6cee2c08c4cf/pretrainedmodels-0.7.4.tar.gz (58kB)\n",
            "\r\u001b[K     |█████▋                          | 10kB 15.2MB/s eta 0:00:01\r\u001b[K     |███████████▏                    | 20kB 4.5MB/s eta 0:00:01\r\u001b[K     |████████████████▊               | 30kB 6.4MB/s eta 0:00:01\r\u001b[K     |██████████████████████▎         | 40kB 4.1MB/s eta 0:00:01\r\u001b[K     |███████████████████████████▉    | 51kB 5.0MB/s eta 0:00:01\r\u001b[K     |████████████████████████████████| 61kB 5.2MB/s \n",
            "\u001b[?25hRequirement already satisfied: torch in /usr/local/lib/python3.6/dist-packages (from pretrainedmodels) (1.1.0)\n",
            "Requirement already satisfied: torchvision in /usr/local/lib/python3.6/dist-packages (from pretrainedmodels) (0.3.0)\n",
            "Collecting munch (from pretrainedmodels)\n",
            "  Downloading https://files.pythonhosted.org/packages/68/f4/260ec98ea840757a0da09e0ed8135333d59b8dfebe9752a365b04857660a/munch-2.3.2.tar.gz\n",
            "Requirement already satisfied: tqdm in /usr/local/lib/python3.6/dist-packages (from pretrainedmodels) (4.28.1)\n",
            "Requirement already satisfied: numpy in /usr/local/lib/python3.6/dist-packages (from torch->pretrainedmodels) (1.16.4)\n",
            "Requirement already satisfied: pillow>=4.1.1 in /usr/local/lib/python3.6/dist-packages (from torchvision->pretrainedmodels) (4.3.0)\n",
            "Requirement already satisfied: six in /usr/local/lib/python3.6/dist-packages (from torchvision->pretrainedmodels) (1.12.0)\n",
            "Requirement already satisfied: olefile in /usr/local/lib/python3.6/dist-packages (from pillow>=4.1.1->torchvision->pretrainedmodels) (0.46)\n",
            "Building wheels for collected packages: pretrainedmodels, munch\n",
            "  Building wheel for pretrainedmodels (setup.py) ... \u001b[?25l\u001b[?25hdone\n",
            "  Created wheel for pretrainedmodels: filename=pretrainedmodels-0.7.4-cp36-none-any.whl size=60963 sha256=f1ec8677e44461142ecdc1d0cf478b2ea2bcb878cbf2a43a6145c1cc12c30706\n",
            "  Stored in directory: /root/.cache/pip/wheels/69/df/63/62583c096289713f22db605aa2334de5b591d59861a02c2ecd\n",
            "  Building wheel for munch (setup.py) ... \u001b[?25l\u001b[?25hdone\n",
            "  Created wheel for munch: filename=munch-2.3.2-py2.py3-none-any.whl size=6613 sha256=b8caf42e1f1a01930a9f96822cdaf6b52513168a807e650c4a715d4cfd6eae2d\n",
            "  Stored in directory: /root/.cache/pip/wheels/db/bf/bc/06a3e1bfe0ab27d2e720ceb3cff3159398d92644c0cec2c125\n",
            "Successfully built pretrainedmodels munch\n",
            "Installing collected packages: munch, pretrainedmodels\n",
            "Successfully installed munch-2.3.2 pretrainedmodels-0.7.4\n"
          ],
          "name": "stdout"
        }
      ]
    },
    {
      "cell_type": "code",
      "metadata": {
        "id": "SMM3KGNpKoKm",
        "colab_type": "code",
        "colab": {}
      },
      "source": [
        "import pretrainedmodels"
      ],
      "execution_count": 0,
      "outputs": []
    },
    {
      "cell_type": "code",
      "metadata": {
        "id": "7HIT7Rw0K4LP",
        "colab_type": "code",
        "outputId": "51b515ed-77a5-4a5d-8827-f1969cddb5f0",
        "colab": {
          "base_uri": "https://localhost:8080/",
          "height": 55
        }
      },
      "source": [
        "print(pretrainedmodels.model_names)"
      ],
      "execution_count": 0,
      "outputs": [
        {
          "output_type": "stream",
          "text": [
            "['fbresnet152', 'bninception', 'resnext101_32x4d', 'resnext101_64x4d', 'inceptionv4', 'inceptionresnetv2', 'alexnet', 'densenet121', 'densenet169', 'densenet201', 'densenet161', 'resnet18', 'resnet34', 'resnet50', 'resnet101', 'resnet152', 'inceptionv3', 'squeezenet1_0', 'squeezenet1_1', 'vgg11', 'vgg11_bn', 'vgg13', 'vgg13_bn', 'vgg16', 'vgg16_bn', 'vgg19_bn', 'vgg19', 'nasnetamobile', 'nasnetalarge', 'dpn68', 'dpn68b', 'dpn92', 'dpn98', 'dpn131', 'dpn107', 'xception', 'senet154', 'se_resnet50', 'se_resnet101', 'se_resnet152', 'se_resnext50_32x4d', 'se_resnext101_32x4d', 'cafferesnet101', 'pnasnet5large', 'polynet']\n"
          ],
          "name": "stdout"
        }
      ]
    },
    {
      "cell_type": "code",
      "metadata": {
        "id": "SeriNFWabUyr",
        "colab_type": "code",
        "outputId": "2c96d071-7ca0-4154-b553-f4a9d831bcaa",
        "colab": {
          "base_uri": "https://localhost:8080/",
          "height": 54
        }
      },
      "source": [
        "arch = pretrainedmodels.__dict__['senet154'](num_classes=1000,pretrained='imagenet')"
      ],
      "execution_count": 0,
      "outputs": [
        {
          "output_type": "stream",
          "text": [
            "Downloading: \"http://data.lip6.fr/cadene/pretrainedmodels/senet154-c7b49a05.pth\" to /root/.cache/torch/checkpoints/senet154-c7b49a05.pth\n",
            "100%|██████████| 461488402/461488402 [21:39<00:00, 355228.38it/s]\n"
          ],
          "name": "stderr"
        }
      ]
    },
    {
      "cell_type": "code",
      "metadata": {
        "id": "n7xdlaauIuC5",
        "colab_type": "code",
        "colab": {}
      },
      "source": [
        "## Custom Fastai itemlist for .mat files\n",
        "\n",
        "import scipy.io as sio\n",
        "import cv2\n",
        "\n",
        "## Size of input image\n",
        "siz = 50\n",
        "class LabelList(ItemList):\n",
        "\n",
        "    def get(self, i):\n",
        "        fn = super().get(i)\n",
        "#         print(fn)\n",
        "        res = self.open(fn)\n",
        "#         self.sizes[i] = res.size\n",
        "        return res\n",
        "    \"Basic `ItemList` for dummy labels.\"\n",
        "#     def get(self, i):\n",
        "#         return EmptyLabel()\n",
        "    def reconstruct(self, t:Tensor, x:Tensor=None):\n",
        "        if len(t.size()) == 0: return EmptyLabel()\n",
        "        return self.x.reconstruct(t,x) if has_arg(self.x.reconstruct, 'x') else self.x.reconstruct(t)\n",
        "    def open(self, fn):\n",
        "        \"Open image in `fn`, subclass and overwrite for custom behavior.\"\n",
        "        cls = Image\n",
        "        with warnings.catch_warnings():\n",
        "            warnings.simplefilter(\"ignore\", UserWarning) # EXIF warning from TiffPlugin\n",
        "            mat_contents = sio.loadmat(fn)\n",
        "            k1 = mat_contents['ComMap']\n",
        "            k2,k3 = cv2.split(k1)\n",
        "            zer = np.zeros((siz,siz))\n",
        "            ## for third channel zeros  x = np.stack([k2,k3,zer],axis=-1)\n",
        "            x = np.stack([k2,k2,k2],axis=-1)\n",
        "            #print(x.shape)\n",
        "        x = pil2tensor(x,np.float32)\n",
        "        #if div: x.div_(255)\n",
        "        #return cls(x)\n",
        "        \n",
        "        \n",
        "        return (x)\n"
      ],
      "execution_count": 0,
      "outputs": []
    },
    {
      "cell_type": "code",
      "metadata": {
        "id": "x2vAsQxOMe6H",
        "colab_type": "code",
        "colab": {}
      },
      "source": [
        "### path of the test folder\n",
        "test_path = '/content/gdrive/My Drive/Cancer/CD output_2L/test'\n",
        "\n",
        "## Create a databunch from the fastai label list\n",
        "data = (LabelList.from_folder(PATH)\n",
        "                     .split_by_folder()\n",
        "                     .label_from_folder()\n",
        "                     .databunch())"
      ],
      "execution_count": 0,
      "outputs": []
    },
    {
      "cell_type": "code",
      "metadata": {
        "id": "LE8_9rIiQw9x",
        "colab_type": "code",
        "outputId": "39df23d8-e18d-4f5a-d8d3-87a4a86dd4c4",
        "colab": {
          "base_uri": "https://localhost:8080/",
          "height": 35
        }
      },
      "source": [
        "### Check the size of train and validation datasets and the number of classes\n",
        "data.classes, data.c, len(data.train_ds), len(data.valid_ds)"
      ],
      "execution_count": 0,
      "outputs": [
        {
          "output_type": "execute_result",
          "data": {
            "text/plain": [
              "(['neg', 'pos'], 2, 5187, 1297)"
            ]
          },
          "metadata": {
            "tags": []
          },
          "execution_count": 7
        }
      ]
    },
    {
      "cell_type": "code",
      "metadata": {
        "id": "fkn5qrn6jmjR",
        "colab_type": "code",
        "outputId": "62b00e33-8c5b-4a12-ac6e-7c4956abcb51",
        "colab": {
          "base_uri": "https://localhost:8080/",
          "height": 1000
        }
      },
      "source": [
        "### Databunch Object\n",
        "data\n"
      ],
      "execution_count": 0,
      "outputs": [
        {
          "output_type": "execute_result",
          "data": {
            "text/plain": [
              "DataBunch;\n",
              "\n",
              "Train: LabelList (5187 items)\n",
              "x: LabelList\n",
              "tensor([[[0.2143, 0.2143, 0.2143,  ..., 0.9286, 0.9286, 0.9286],\n",
              "         [0.2143, 0.2143, 0.2143,  ..., 0.9286, 0.9286, 0.9286],\n",
              "         [0.2143, 0.2143, 0.9286,  ..., 0.9286, 0.9286, 0.9286],\n",
              "         ...,\n",
              "         [0.4286, 0.4286, 0.4286,  ..., 0.9286, 0.9286, 0.9286],\n",
              "         [0.4286, 0.4286, 0.9286,  ..., 0.9286, 0.9286, 0.9286],\n",
              "         [0.9286, 0.9286, 0.9286,  ..., 0.9286, 0.9286, 0.9286]],\n",
              "\n",
              "        [[0.2143, 0.2143, 0.2143,  ..., 0.9286, 0.9286, 0.9286],\n",
              "         [0.2143, 0.2143, 0.2143,  ..., 0.9286, 0.9286, 0.9286],\n",
              "         [0.2143, 0.2143, 0.9286,  ..., 0.9286, 0.9286, 0.9286],\n",
              "         ...,\n",
              "         [0.4286, 0.4286, 0.4286,  ..., 0.9286, 0.9286, 0.9286],\n",
              "         [0.4286, 0.4286, 0.9286,  ..., 0.9286, 0.9286, 0.9286],\n",
              "         [0.9286, 0.9286, 0.9286,  ..., 0.9286, 0.9286, 0.9286]],\n",
              "\n",
              "        [[0.2143, 0.2143, 0.2143,  ..., 0.9286, 0.9286, 0.9286],\n",
              "         [0.2143, 0.2143, 0.2143,  ..., 0.9286, 0.9286, 0.9286],\n",
              "         [0.2143, 0.2143, 0.9286,  ..., 0.9286, 0.9286, 0.9286],\n",
              "         ...,\n",
              "         [0.4286, 0.4286, 0.4286,  ..., 0.9286, 0.9286, 0.9286],\n",
              "         [0.4286, 0.4286, 0.9286,  ..., 0.9286, 0.9286, 0.9286],\n",
              "         [0.9286, 0.9286, 0.9286,  ..., 0.9286, 0.9286, 0.9286]]]),tensor([[[0.8000, 0.8000, 0.8000,  ..., 0.8000, 0.8000, 0.8000],\n",
              "         [0.8000, 0.8000, 0.8000,  ..., 0.8000, 0.8000, 0.8000],\n",
              "         [0.8000, 0.8000, 0.8000,  ..., 0.8000, 0.8000, 0.8000],\n",
              "         ...,\n",
              "         [0.4000, 0.4000, 0.4000,  ..., 0.8000, 0.8000, 0.8000],\n",
              "         [0.4000, 0.4000, 0.4000,  ..., 0.8000, 0.8000, 0.8000],\n",
              "         [0.8000, 0.8000, 0.8000,  ..., 0.8000, 0.8000, 0.8000]],\n",
              "\n",
              "        [[0.8000, 0.8000, 0.8000,  ..., 0.8000, 0.8000, 0.8000],\n",
              "         [0.8000, 0.8000, 0.8000,  ..., 0.8000, 0.8000, 0.8000],\n",
              "         [0.8000, 0.8000, 0.8000,  ..., 0.8000, 0.8000, 0.8000],\n",
              "         ...,\n",
              "         [0.4000, 0.4000, 0.4000,  ..., 0.8000, 0.8000, 0.8000],\n",
              "         [0.4000, 0.4000, 0.4000,  ..., 0.8000, 0.8000, 0.8000],\n",
              "         [0.8000, 0.8000, 0.8000,  ..., 0.8000, 0.8000, 0.8000]],\n",
              "\n",
              "        [[0.8000, 0.8000, 0.8000,  ..., 0.8000, 0.8000, 0.8000],\n",
              "         [0.8000, 0.8000, 0.8000,  ..., 0.8000, 0.8000, 0.8000],\n",
              "         [0.8000, 0.8000, 0.8000,  ..., 0.8000, 0.8000, 0.8000],\n",
              "         ...,\n",
              "         [0.4000, 0.4000, 0.4000,  ..., 0.8000, 0.8000, 0.8000],\n",
              "         [0.4000, 0.4000, 0.4000,  ..., 0.8000, 0.8000, 0.8000],\n",
              "         [0.8000, 0.8000, 0.8000,  ..., 0.8000, 0.8000, 0.8000]]]),tensor([[[0.9000, 0.9000, 0.9000,  ..., 0.8000, 0.8000, 0.8000],\n",
              "         [0.9000, 0.9000, 0.9000,  ..., 0.8000, 0.8000, 0.8000],\n",
              "         [0.9000, 0.9000, 0.9000,  ..., 0.8000, 0.8000, 0.8000],\n",
              "         ...,\n",
              "         [0.9000, 0.9000, 0.9000,  ..., 0.3000, 0.3000, 0.3000],\n",
              "         [0.9000, 0.9000, 0.9000,  ..., 0.3000, 0.3000, 0.3000],\n",
              "         [0.9000, 0.9000, 0.9000,  ..., 0.3000, 0.3000, 0.3000]],\n",
              "\n",
              "        [[0.9000, 0.9000, 0.9000,  ..., 0.8000, 0.8000, 0.8000],\n",
              "         [0.9000, 0.9000, 0.9000,  ..., 0.8000, 0.8000, 0.8000],\n",
              "         [0.9000, 0.9000, 0.9000,  ..., 0.8000, 0.8000, 0.8000],\n",
              "         ...,\n",
              "         [0.9000, 0.9000, 0.9000,  ..., 0.3000, 0.3000, 0.3000],\n",
              "         [0.9000, 0.9000, 0.9000,  ..., 0.3000, 0.3000, 0.3000],\n",
              "         [0.9000, 0.9000, 0.9000,  ..., 0.3000, 0.3000, 0.3000]],\n",
              "\n",
              "        [[0.9000, 0.9000, 0.9000,  ..., 0.8000, 0.8000, 0.8000],\n",
              "         [0.9000, 0.9000, 0.9000,  ..., 0.8000, 0.8000, 0.8000],\n",
              "         [0.9000, 0.9000, 0.9000,  ..., 0.8000, 0.8000, 0.8000],\n",
              "         ...,\n",
              "         [0.9000, 0.9000, 0.9000,  ..., 0.3000, 0.3000, 0.3000],\n",
              "         [0.9000, 0.9000, 0.9000,  ..., 0.3000, 0.3000, 0.3000],\n",
              "         [0.9000, 0.9000, 0.9000,  ..., 0.3000, 0.3000, 0.3000]]]),tensor([[[0.3333, 0.3333, 0.3333,  ..., 0.6667, 0.6667, 0.6667],\n",
              "         [0.3333, 0.3333, 0.3333,  ..., 0.6667, 0.6667, 0.6667],\n",
              "         [0.3333, 0.3333, 0.3333,  ..., 0.6667, 0.6667, 0.6667],\n",
              "         ...,\n",
              "         [0.3333, 0.3333, 0.3333,  ..., 0.0000, 0.0000, 0.0000],\n",
              "         [0.3333, 0.3333, 0.3333,  ..., 0.0000, 0.0000, 0.0000],\n",
              "         [0.3333, 0.3333, 0.3333,  ..., 0.6667, 0.0000, 0.0000]],\n",
              "\n",
              "        [[0.3333, 0.3333, 0.3333,  ..., 0.6667, 0.6667, 0.6667],\n",
              "         [0.3333, 0.3333, 0.3333,  ..., 0.6667, 0.6667, 0.6667],\n",
              "         [0.3333, 0.3333, 0.3333,  ..., 0.6667, 0.6667, 0.6667],\n",
              "         ...,\n",
              "         [0.3333, 0.3333, 0.3333,  ..., 0.0000, 0.0000, 0.0000],\n",
              "         [0.3333, 0.3333, 0.3333,  ..., 0.0000, 0.0000, 0.0000],\n",
              "         [0.3333, 0.3333, 0.3333,  ..., 0.6667, 0.0000, 0.0000]],\n",
              "\n",
              "        [[0.3333, 0.3333, 0.3333,  ..., 0.6667, 0.6667, 0.6667],\n",
              "         [0.3333, 0.3333, 0.3333,  ..., 0.6667, 0.6667, 0.6667],\n",
              "         [0.3333, 0.3333, 0.3333,  ..., 0.6667, 0.6667, 0.6667],\n",
              "         ...,\n",
              "         [0.3333, 0.3333, 0.3333,  ..., 0.0000, 0.0000, 0.0000],\n",
              "         [0.3333, 0.3333, 0.3333,  ..., 0.0000, 0.0000, 0.0000],\n",
              "         [0.3333, 0.3333, 0.3333,  ..., 0.6667, 0.0000, 0.0000]]]),tensor([[[0.8000, 0.8000, 0.8000,  ..., 0.8000, 0.8000, 0.8000],\n",
              "         [0.8000, 0.8000, 0.8000,  ..., 0.8000, 0.8000, 0.8000],\n",
              "         [0.8000, 0.8000, 0.8000,  ..., 0.8000, 0.8000, 0.8000],\n",
              "         ...,\n",
              "         [0.8000, 0.8000, 0.8000,  ..., 0.8000, 0.8000, 0.8000],\n",
              "         [0.8000, 0.8000, 0.8000,  ..., 0.8000, 0.8000, 0.8000],\n",
              "         [0.8000, 0.8000, 0.8000,  ..., 0.8000, 0.8000, 0.8000]],\n",
              "\n",
              "        [[0.8000, 0.8000, 0.8000,  ..., 0.8000, 0.8000, 0.8000],\n",
              "         [0.8000, 0.8000, 0.8000,  ..., 0.8000, 0.8000, 0.8000],\n",
              "         [0.8000, 0.8000, 0.8000,  ..., 0.8000, 0.8000, 0.8000],\n",
              "         ...,\n",
              "         [0.8000, 0.8000, 0.8000,  ..., 0.8000, 0.8000, 0.8000],\n",
              "         [0.8000, 0.8000, 0.8000,  ..., 0.8000, 0.8000, 0.8000],\n",
              "         [0.8000, 0.8000, 0.8000,  ..., 0.8000, 0.8000, 0.8000]],\n",
              "\n",
              "        [[0.8000, 0.8000, 0.8000,  ..., 0.8000, 0.8000, 0.8000],\n",
              "         [0.8000, 0.8000, 0.8000,  ..., 0.8000, 0.8000, 0.8000],\n",
              "         [0.8000, 0.8000, 0.8000,  ..., 0.8000, 0.8000, 0.8000],\n",
              "         ...,\n",
              "         [0.8000, 0.8000, 0.8000,  ..., 0.8000, 0.8000, 0.8000],\n",
              "         [0.8000, 0.8000, 0.8000,  ..., 0.8000, 0.8000, 0.8000],\n",
              "         [0.8000, 0.8000, 0.8000,  ..., 0.8000, 0.8000, 0.8000]]])\n",
              "y: CategoryList\n",
              "neg,neg,neg,neg,neg\n",
              "Path: /content/gdrive/My Drive/Cancer/CD output_2L;\n",
              "\n",
              "Valid: LabelList (1297 items)\n",
              "x: LabelList\n",
              "tensor([[[0.6667, 0.6667, 0.6667,  ..., 0.6667, 0.6667, 0.6667],\n",
              "         [0.6667, 0.6667, 0.6667,  ..., 0.6667, 0.6667, 0.6667],\n",
              "         [0.6667, 0.6667, 0.6667,  ..., 0.6667, 0.6667, 0.6667],\n",
              "         ...,\n",
              "         [0.3333, 0.3333, 0.3333,  ..., 0.6667, 0.6667, 0.6667],\n",
              "         [0.3333, 0.3333, 0.3333,  ..., 0.6667, 0.6667, 0.6667],\n",
              "         [0.3333, 0.3333, 0.3333,  ..., 0.6667, 0.6667, 0.6667]],\n",
              "\n",
              "        [[0.6667, 0.6667, 0.6667,  ..., 0.6667, 0.6667, 0.6667],\n",
              "         [0.6667, 0.6667, 0.6667,  ..., 0.6667, 0.6667, 0.6667],\n",
              "         [0.6667, 0.6667, 0.6667,  ..., 0.6667, 0.6667, 0.6667],\n",
              "         ...,\n",
              "         [0.3333, 0.3333, 0.3333,  ..., 0.6667, 0.6667, 0.6667],\n",
              "         [0.3333, 0.3333, 0.3333,  ..., 0.6667, 0.6667, 0.6667],\n",
              "         [0.3333, 0.3333, 0.3333,  ..., 0.6667, 0.6667, 0.6667]],\n",
              "\n",
              "        [[0.6667, 0.6667, 0.6667,  ..., 0.6667, 0.6667, 0.6667],\n",
              "         [0.6667, 0.6667, 0.6667,  ..., 0.6667, 0.6667, 0.6667],\n",
              "         [0.6667, 0.6667, 0.6667,  ..., 0.6667, 0.6667, 0.6667],\n",
              "         ...,\n",
              "         [0.3333, 0.3333, 0.3333,  ..., 0.6667, 0.6667, 0.6667],\n",
              "         [0.3333, 0.3333, 0.3333,  ..., 0.6667, 0.6667, 0.6667],\n",
              "         [0.3333, 0.3333, 0.3333,  ..., 0.6667, 0.6667, 0.6667]]]),tensor([[[0.8333, 0.8333, 0.8333,  ..., 0.3333, 0.3333, 0.8333],\n",
              "         [0.8333, 0.8333, 0.8333,  ..., 0.3333, 0.3333, 0.8333],\n",
              "         [0.8333, 0.8333, 0.8333,  ..., 0.3333, 0.8333, 0.8333],\n",
              "         ...,\n",
              "         [0.6667, 0.6667, 0.6667,  ..., 0.6667, 0.6667, 0.6667],\n",
              "         [0.6667, 0.6667, 0.6667,  ..., 0.6667, 0.6667, 0.6667],\n",
              "         [0.6667, 0.6667, 0.6667,  ..., 0.6667, 0.6667, 0.6667]],\n",
              "\n",
              "        [[0.8333, 0.8333, 0.8333,  ..., 0.3333, 0.3333, 0.8333],\n",
              "         [0.8333, 0.8333, 0.8333,  ..., 0.3333, 0.3333, 0.8333],\n",
              "         [0.8333, 0.8333, 0.8333,  ..., 0.3333, 0.8333, 0.8333],\n",
              "         ...,\n",
              "         [0.6667, 0.6667, 0.6667,  ..., 0.6667, 0.6667, 0.6667],\n",
              "         [0.6667, 0.6667, 0.6667,  ..., 0.6667, 0.6667, 0.6667],\n",
              "         [0.6667, 0.6667, 0.6667,  ..., 0.6667, 0.6667, 0.6667]],\n",
              "\n",
              "        [[0.8333, 0.8333, 0.8333,  ..., 0.3333, 0.3333, 0.8333],\n",
              "         [0.8333, 0.8333, 0.8333,  ..., 0.3333, 0.3333, 0.8333],\n",
              "         [0.8333, 0.8333, 0.8333,  ..., 0.3333, 0.8333, 0.8333],\n",
              "         ...,\n",
              "         [0.6667, 0.6667, 0.6667,  ..., 0.6667, 0.6667, 0.6667],\n",
              "         [0.6667, 0.6667, 0.6667,  ..., 0.6667, 0.6667, 0.6667],\n",
              "         [0.6667, 0.6667, 0.6667,  ..., 0.6667, 0.6667, 0.6667]]]),tensor([[[0.8000, 0.8000, 0.8000,  ..., 0.0000, 0.0000, 0.0000],\n",
              "         [0.8000, 0.8000, 0.8000,  ..., 0.0000, 0.0000, 0.0000],\n",
              "         [0.8000, 0.8000, 0.8000,  ..., 0.0000, 0.0000, 0.0000],\n",
              "         ...,\n",
              "         [0.8000, 0.8000, 0.8000,  ..., 0.0000, 0.0000, 0.0000],\n",
              "         [0.8000, 0.8000, 0.8000,  ..., 0.0000, 0.0000, 0.0000],\n",
              "         [0.8000, 0.8000, 0.8000,  ..., 0.0000, 0.0000, 0.0000]],\n",
              "\n",
              "        [[0.8000, 0.8000, 0.8000,  ..., 0.0000, 0.0000, 0.0000],\n",
              "         [0.8000, 0.8000, 0.8000,  ..., 0.0000, 0.0000, 0.0000],\n",
              "         [0.8000, 0.8000, 0.8000,  ..., 0.0000, 0.0000, 0.0000],\n",
              "         ...,\n",
              "         [0.8000, 0.8000, 0.8000,  ..., 0.0000, 0.0000, 0.0000],\n",
              "         [0.8000, 0.8000, 0.8000,  ..., 0.0000, 0.0000, 0.0000],\n",
              "         [0.8000, 0.8000, 0.8000,  ..., 0.0000, 0.0000, 0.0000]],\n",
              "\n",
              "        [[0.8000, 0.8000, 0.8000,  ..., 0.0000, 0.0000, 0.0000],\n",
              "         [0.8000, 0.8000, 0.8000,  ..., 0.0000, 0.0000, 0.0000],\n",
              "         [0.8000, 0.8000, 0.8000,  ..., 0.0000, 0.0000, 0.0000],\n",
              "         ...,\n",
              "         [0.8000, 0.8000, 0.8000,  ..., 0.0000, 0.0000, 0.0000],\n",
              "         [0.8000, 0.8000, 0.8000,  ..., 0.0000, 0.0000, 0.0000],\n",
              "         [0.8000, 0.8000, 0.8000,  ..., 0.0000, 0.0000, 0.0000]]]),tensor([[[0.5000, 0.5000, 0.5000,  ..., 0.8750, 0.8750, 0.8750],\n",
              "         [0.5000, 0.5000, 0.5000,  ..., 0.8750, 0.8750, 0.8750],\n",
              "         [0.5000, 0.5000, 0.5000,  ..., 0.8750, 0.8750, 0.8750],\n",
              "         ...,\n",
              "         [0.8750, 0.8750, 0.8750,  ..., 0.8750, 0.8750, 0.8750],\n",
              "         [0.8750, 0.8750, 0.8750,  ..., 0.8750, 0.8750, 0.8750],\n",
              "         [0.8750, 0.8750, 0.8750,  ..., 0.8750, 0.8750, 0.8750]],\n",
              "\n",
              "        [[0.5000, 0.5000, 0.5000,  ..., 0.8750, 0.8750, 0.8750],\n",
              "         [0.5000, 0.5000, 0.5000,  ..., 0.8750, 0.8750, 0.8750],\n",
              "         [0.5000, 0.5000, 0.5000,  ..., 0.8750, 0.8750, 0.8750],\n",
              "         ...,\n",
              "         [0.8750, 0.8750, 0.8750,  ..., 0.8750, 0.8750, 0.8750],\n",
              "         [0.8750, 0.8750, 0.8750,  ..., 0.8750, 0.8750, 0.8750],\n",
              "         [0.8750, 0.8750, 0.8750,  ..., 0.8750, 0.8750, 0.8750]],\n",
              "\n",
              "        [[0.5000, 0.5000, 0.5000,  ..., 0.8750, 0.8750, 0.8750],\n",
              "         [0.5000, 0.5000, 0.5000,  ..., 0.8750, 0.8750, 0.8750],\n",
              "         [0.5000, 0.5000, 0.5000,  ..., 0.8750, 0.8750, 0.8750],\n",
              "         ...,\n",
              "         [0.8750, 0.8750, 0.8750,  ..., 0.8750, 0.8750, 0.8750],\n",
              "         [0.8750, 0.8750, 0.8750,  ..., 0.8750, 0.8750, 0.8750],\n",
              "         [0.8750, 0.8750, 0.8750,  ..., 0.8750, 0.8750, 0.8750]]]),tensor([[[0.7500, 0.7500, 0.7500,  ..., 0.2500, 0.2500, 0.2500],\n",
              "         [0.7500, 0.7500, 0.7500,  ..., 0.2500, 0.2500, 0.2500],\n",
              "         [0.7500, 0.7500, 0.7500,  ..., 0.2500, 0.2500, 0.2500],\n",
              "         ...,\n",
              "         [0.7500, 0.7500, 0.7500,  ..., 0.5000, 0.5000, 0.5000],\n",
              "         [0.7500, 0.7500, 0.7500,  ..., 0.5000, 0.5000, 0.5000],\n",
              "         [0.7500, 0.7500, 0.7500,  ..., 0.5000, 0.5000, 0.5000]],\n",
              "\n",
              "        [[0.7500, 0.7500, 0.7500,  ..., 0.2500, 0.2500, 0.2500],\n",
              "         [0.7500, 0.7500, 0.7500,  ..., 0.2500, 0.2500, 0.2500],\n",
              "         [0.7500, 0.7500, 0.7500,  ..., 0.2500, 0.2500, 0.2500],\n",
              "         ...,\n",
              "         [0.7500, 0.7500, 0.7500,  ..., 0.5000, 0.5000, 0.5000],\n",
              "         [0.7500, 0.7500, 0.7500,  ..., 0.5000, 0.5000, 0.5000],\n",
              "         [0.7500, 0.7500, 0.7500,  ..., 0.5000, 0.5000, 0.5000]],\n",
              "\n",
              "        [[0.7500, 0.7500, 0.7500,  ..., 0.2500, 0.2500, 0.2500],\n",
              "         [0.7500, 0.7500, 0.7500,  ..., 0.2500, 0.2500, 0.2500],\n",
              "         [0.7500, 0.7500, 0.7500,  ..., 0.2500, 0.2500, 0.2500],\n",
              "         ...,\n",
              "         [0.7500, 0.7500, 0.7500,  ..., 0.5000, 0.5000, 0.5000],\n",
              "         [0.7500, 0.7500, 0.7500,  ..., 0.5000, 0.5000, 0.5000],\n",
              "         [0.7500, 0.7500, 0.7500,  ..., 0.5000, 0.5000, 0.5000]]])\n",
              "y: CategoryList\n",
              "pos,pos,pos,pos,pos\n",
              "Path: /content/gdrive/My Drive/Cancer/CD output_2L;\n",
              "\n",
              "Test: None"
            ]
          },
          "metadata": {
            "tags": []
          },
          "execution_count": 15
        }
      ]
    },
    {
      "cell_type": "code",
      "metadata": {
        "id": "3-wGIDkcUEue",
        "colab_type": "code",
        "colab": {}
      },
      "source": [
        "\n",
        "### Adding testing folders separately\n",
        "pos_path = '/content/gdrive/My Drive/Cancer/data3/test/pos'\n",
        "data.add_test(ItemList.from_folder(pos_path))"
      ],
      "execution_count": 0,
      "outputs": []
    },
    {
      "cell_type": "code",
      "metadata": {
        "id": "dgCdOW67kNlt",
        "colab_type": "code",
        "colab": {}
      },
      "source": [
        "### Scaled \n",
        "neg_path = '/content/gdrive/My Drive/Cancer/scaled_image_50_50_2L/combined_pos_50'\n",
        "data.add_test(ItemList.from_folder(neg_path))"
      ],
      "execution_count": 0,
      "outputs": []
    },
    {
      "cell_type": "code",
      "metadata": {
        "id": "7krRC2glUtMu",
        "colab_type": "code",
        "colab": {}
      },
      "source": [
        "test_path = '/content/gdrive/My Drive/Cancer/CD output_2L/test/pos'\n",
        "data.add_test(ItemList.from_folder(test_path))\n",
        "data.test_ds"
      ],
      "execution_count": 0,
      "outputs": []
    },
    {
      "cell_type": "code",
      "metadata": {
        "id": "9x5Sn1gLTTll",
        "colab_type": "code",
        "colab": {}
      },
      "source": [
        "test_data2 = (LabelList.from_folder(test_path)\n",
        "                     .split_by_folder()\n",
        "                     .label_from_folder()\n",
        "                     .databunch())"
      ],
      "execution_count": 0,
      "outputs": []
    },
    {
      "cell_type": "code",
      "metadata": {
        "id": "Uwg2WomXL-xe",
        "colab_type": "code",
        "colab": {}
      },
      "source": [
        "test_data = '/content/gdrive/My Drive/Cancer/CD output_2L/test'\n",
        "data.add_test(test_data)"
      ],
      "execution_count": 0,
      "outputs": []
    },
    {
      "cell_type": "code",
      "metadata": {
        "id": "TAHx71MXReQV",
        "colab_type": "code",
        "colab": {}
      },
      "source": [
        "data"
      ],
      "execution_count": 0,
      "outputs": []
    },
    {
      "cell_type": "code",
      "metadata": {
        "id": "7A8ulVz5RmYl",
        "colab_type": "code",
        "outputId": "45eb6c2d-a8b9-4b76-c72d-5c4574dbd530",
        "colab": {
          "base_uri": "https://localhost:8080/",
          "height": 35
        }
      },
      "source": [
        "data.classes, data.c, len(data.train_ds), len(data.valid_ds)"
      ],
      "execution_count": 0,
      "outputs": [
        {
          "output_type": "execute_result",
          "data": {
            "text/plain": [
              "(['neg', 'pos'], 2, 5187, 1297)"
            ]
          },
          "metadata": {
            "tags": []
          },
          "execution_count": 17
        }
      ]
    },
    {
      "cell_type": "code",
      "metadata": {
        "id": "0CEbCkMfTMVH",
        "colab_type": "code",
        "colab": {}
      },
      "source": [
        "data.test_ds\n"
      ],
      "execution_count": 0,
      "outputs": []
    },
    {
      "cell_type": "code",
      "metadata": {
        "id": "LQ7LFjgBm3Ny",
        "colab_type": "code",
        "outputId": "a743b98e-e524-4fbd-d5e4-f50ed1bd3b70",
        "colab": {
          "base_uri": "https://localhost:8080/",
          "height": 513
        }
      },
      "source": [
        "#### Fine Tuning\n",
        "!pip install cnn_finetune"
      ],
      "execution_count": 0,
      "outputs": [
        {
          "output_type": "stream",
          "text": [
            "Collecting cnn_finetune\n",
            "  Downloading https://files.pythonhosted.org/packages/e4/63/03a442d31401c43fc17a814f22bd7c39ab8f13f42a6b2467ca0d0d042b3a/cnn_finetune-0.6.0.tar.gz\n",
            "Requirement already satisfied: torch in /usr/local/lib/python3.6/dist-packages (from cnn_finetune) (1.1.0)\n",
            "Requirement already satisfied: torchvision>=0.3.0 in /usr/local/lib/python3.6/dist-packages (from cnn_finetune) (0.3.0)\n",
            "Collecting pretrainedmodels>=0.7.4 (from cnn_finetune)\n",
            "\u001b[?25l  Downloading https://files.pythonhosted.org/packages/84/0e/be6a0e58447ac16c938799d49bfb5fb7a80ac35e137547fc6cee2c08c4cf/pretrainedmodels-0.7.4.tar.gz (58kB)\n",
            "\u001b[K     |████████████████████████████████| 61kB 9.0MB/s \n",
            "\u001b[?25hRequirement already satisfied: scipy in /usr/local/lib/python3.6/dist-packages (from cnn_finetune) (1.3.1)\n",
            "Requirement already satisfied: tqdm in /usr/local/lib/python3.6/dist-packages (from cnn_finetune) (4.28.1)\n",
            "Requirement already satisfied: numpy in /usr/local/lib/python3.6/dist-packages (from torch->cnn_finetune) (1.16.5)\n",
            "Requirement already satisfied: six in /usr/local/lib/python3.6/dist-packages (from torchvision>=0.3.0->cnn_finetune) (1.12.0)\n",
            "Requirement already satisfied: pillow>=4.1.1 in /usr/local/lib/python3.6/dist-packages (from torchvision>=0.3.0->cnn_finetune) (4.3.0)\n",
            "Collecting munch (from pretrainedmodels>=0.7.4->cnn_finetune)\n",
            "  Downloading https://files.pythonhosted.org/packages/68/f4/260ec98ea840757a0da09e0ed8135333d59b8dfebe9752a365b04857660a/munch-2.3.2.tar.gz\n",
            "Requirement already satisfied: olefile in /usr/local/lib/python3.6/dist-packages (from pillow>=4.1.1->torchvision>=0.3.0->cnn_finetune) (0.46)\n",
            "Building wheels for collected packages: cnn-finetune, pretrainedmodels, munch\n",
            "  Building wheel for cnn-finetune (setup.py) ... \u001b[?25l\u001b[?25hdone\n",
            "  Created wheel for cnn-finetune: filename=cnn_finetune-0.6.0-cp36-none-any.whl size=11432 sha256=f55a3995d8f7086e5e02169a31ffa3bec3a2a011bbf901705a8b0adf61a4c3bd\n",
            "  Stored in directory: /root/.cache/pip/wheels/12/4f/29/32978e72b606c5f51b6bd10117814deb46c6b63230eef49381\n",
            "  Building wheel for pretrainedmodels (setup.py) ... \u001b[?25l\u001b[?25hdone\n",
            "  Created wheel for pretrainedmodels: filename=pretrainedmodels-0.7.4-cp36-none-any.whl size=60963 sha256=f769d47cae327352348f1a93825f4074a38fce8eb3331f9f159cfd25db587f67\n",
            "  Stored in directory: /root/.cache/pip/wheels/69/df/63/62583c096289713f22db605aa2334de5b591d59861a02c2ecd\n",
            "  Building wheel for munch (setup.py) ... \u001b[?25l\u001b[?25hdone\n",
            "  Created wheel for munch: filename=munch-2.3.2-py2.py3-none-any.whl size=6614 sha256=c75373d6facc32a6db1d58c7c2f2881d4c56d095d8a1b3d2c7c7c9a33c951046\n",
            "  Stored in directory: /root/.cache/pip/wheels/db/bf/bc/06a3e1bfe0ab27d2e720ceb3cff3159398d92644c0cec2c125\n",
            "Successfully built cnn-finetune pretrainedmodels munch\n",
            "Installing collected packages: munch, pretrainedmodels, cnn-finetune\n",
            "Successfully installed cnn-finetune-0.6.0 munch-2.3.2 pretrainedmodels-0.7.4\n"
          ],
          "name": "stdout"
        }
      ]
    },
    {
      "cell_type": "code",
      "metadata": {
        "id": "wKsQlWtum3Jq",
        "colab_type": "code",
        "colab": {}
      },
      "source": [
        "from cnn_finetune import make_model\n",
        "\n",
        "model = make_model('se_resnext50_32x4d', num_classes=2, pretrained=True, input_size=(50, 50))"
      ],
      "execution_count": 0,
      "outputs": []
    },
    {
      "cell_type": "code",
      "metadata": {
        "id": "LaGaju4gsDgN",
        "colab_type": "code",
        "colab": {}
      },
      "source": [
        "#from fastai.vision.learner import create_head, cnn_config, num_features_model\n",
        "#arch = models.resnet34\n",
        "#cut = None\n",
        "#meta = cnn_config(arch)\n",
        "#body = create_body(arch(pretrained=True), ifnone(cut,meta['cut']))\n",
        "\n",
        "##define number of classes of the \"old\" model\n",
        "#nc = 2\n",
        "#nf = num_features_model(body) * 2\n",
        "#ps=0.5\n",
        "#lin_ftrs = None\n",
        "\n",
        "#head_124 = create_head(nf, nc, lin_ftrs, ps)"
      ],
      "execution_count": 0,
      "outputs": []
    },
    {
      "cell_type": "code",
      "metadata": {
        "id": "DQZM_9-r_l2P",
        "colab_type": "code",
        "colab": {}
      },
      "source": [
        "from fastai.vision.models.cadene_models import *"
      ],
      "execution_count": 0,
      "outputs": []
    },
    {
      "cell_type": "code",
      "metadata": {
        "id": "oCAzZQSbAhFf",
        "colab_type": "code",
        "colab": {}
      },
      "source": [
        "from fastai.vision.models import cadene_models"
      ],
      "execution_count": 0,
      "outputs": []
    },
    {
      "cell_type": "code",
      "metadata": {
        "id": "Pj2EzvbvEw-w",
        "colab_type": "code",
        "outputId": "c7ae810f-4c68-4c78-b000-d0daf3f762ca",
        "colab": {
          "base_uri": "https://localhost:8080/",
          "height": 85
        }
      },
      "source": [
        "import torchvision.models as models\n",
        "#resnet18 = models.resnet18(pretrained=True)\n",
        "#alexnet = models.alexnet(pretrained=True)\n",
        "#squeezenet = models.squeezenet1_0(pretrained=True)\n",
        "#vgg16 = models.vgg16(pretrained=True)\n",
        "densenet = models.densenet161(pretrained=True)\n",
        "#inception = models.inception_v3(pretrained=True)\n",
        "#googlenet = models.googlenet(pretrained=True)\n",
        "#shufflenet = models.shufflenet_v2_x1_0(pretrained=True)\n",
        "#mobilenet = models.mobilenet_v2(pretrained=True)\n",
        "resnext50_32x4d = models.resnext50_32x4d(pretrained=True)"
      ],
      "execution_count": 0,
      "outputs": [
        {
          "output_type": "stream",
          "text": [
            "Downloading: \"https://download.pytorch.org/models/densenet161-8d451a50.pth\" to /root/.cache/torch/checkpoints/densenet161-8d451a50.pth\n",
            "100%|██████████| 115730790/115730790 [00:02<00:00, 50986197.40it/s]\n",
            "Downloading: \"https://download.pytorch.org/models/resnext50_32x4d-7cdf4587.pth\" to /root/.cache/torch/checkpoints/resnext50_32x4d-7cdf4587.pth\n",
            "100%|██████████| 100441675/100441675 [00:06<00:00, 14748840.63it/s]\n"
          ],
          "name": "stderr"
        }
      ]
    },
    {
      "cell_type": "code",
      "metadata": {
        "id": "GWR3tuJ6E33_",
        "colab_type": "code",
        "colab": {}
      },
      "source": [
        "learn = cnn_learner(data, models.resnext50_32x4d, metrics = accuracy)"
      ],
      "execution_count": 0,
      "outputs": []
    },
    {
      "cell_type": "code",
      "metadata": {
        "id": "K1g3OR0emnKw",
        "colab_type": "code",
        "colab": {}
      },
      "source": [
        "def hinge(y_true, y_pred):\n",
        "    zero = torch.Tensor([0]) \n",
        "    return torch.sum(torch.max(zero, 0.5 - y_true * y_pred) ** 2)"
      ],
      "execution_count": 0,
      "outputs": []
    },
    {
      "cell_type": "code",
      "metadata": {
        "id": "5QZPZSSDAKse",
        "colab_type": "code",
        "colab": {}
      },
      "source": [
        "from fastai.vision import *\n",
        "learn = cnn_learner(data, base_arch = cadene_models.se_resnext50_32x4d, metrics = accuracy)\n"
      ],
      "execution_count": 0,
      "outputs": []
    },
    {
      "cell_type": "code",
      "metadata": {
        "id": "8VB3V452BTP9",
        "colab_type": "code",
        "colab": {}
      },
      "source": [
        "#learn = cnn_learner(data, model, metrics = accuracy)"
      ],
      "execution_count": 0,
      "outputs": []
    },
    {
      "cell_type": "code",
      "metadata": {
        "id": "3T4MbXn9XUIw",
        "colab_type": "code",
        "outputId": "5906d1d0-7f07-4231-ece9-9552b6b063c3",
        "colab": {
          "base_uri": "https://localhost:8080/",
          "height": 111
        }
      },
      "source": [
        "#### Seresnext\n",
        "\n",
        "learn.fit_one_cycle(2)\n",
        "\n"
      ],
      "execution_count": 0,
      "outputs": [
        {
          "output_type": "display_data",
          "data": {
            "text/html": [
              "<table border=\"1\" class=\"dataframe\">\n",
              "  <thead>\n",
              "    <tr style=\"text-align: left;\">\n",
              "      <th>epoch</th>\n",
              "      <th>train_loss</th>\n",
              "      <th>valid_loss</th>\n",
              "      <th>accuracy</th>\n",
              "      <th>time</th>\n",
              "    </tr>\n",
              "  </thead>\n",
              "  <tbody>\n",
              "    <tr>\n",
              "      <td>0</td>\n",
              "      <td>0.548812</td>\n",
              "      <td>0.420190</td>\n",
              "      <td>0.848111</td>\n",
              "      <td>24:40</td>\n",
              "    </tr>\n",
              "    <tr>\n",
              "      <td>1</td>\n",
              "      <td>0.383795</td>\n",
              "      <td>0.379386</td>\n",
              "      <td>0.853508</td>\n",
              "      <td>00:16</td>\n",
              "    </tr>\n",
              "  </tbody>\n",
              "</table>"
            ],
            "text/plain": [
              "<IPython.core.display.HTML object>"
            ]
          },
          "metadata": {
            "tags": []
          }
        }
      ]
    },
    {
      "cell_type": "code",
      "metadata": {
        "id": "vRLDO_bVXaT_",
        "colab_type": "code",
        "outputId": "3fd39c0a-de22-4b6e-9765-c20c76570f92",
        "colab": {
          "base_uri": "https://localhost:8080/",
          "height": 300
        }
      },
      "source": [
        "learn.lr_find()\n",
        "learn.recorder.plot()"
      ],
      "execution_count": 0,
      "outputs": [
        {
          "output_type": "display_data",
          "data": {
            "text/html": [
              ""
            ],
            "text/plain": [
              "<IPython.core.display.HTML object>"
            ]
          },
          "metadata": {
            "tags": []
          }
        },
        {
          "output_type": "stream",
          "text": [
            "LR Finder is complete, type {learner_name}.recorder.plot() to see the graph.\n"
          ],
          "name": "stdout"
        },
        {
          "output_type": "display_data",
          "data": {
            "image/png": "[encoded data removed]",
            "text/plain": [
              "<Figure size 432x288 with 1 Axes>"
            ]
          },
          "metadata": {
            "tags": []
          }
        }
      ]
    },
    {
      "cell_type": "code",
      "metadata": {
        "id": "1aQW-Ub_XaP7",
        "colab_type": "code",
        "colab": {}
      },
      "source": [
        ""
      ],
      "execution_count": 0,
      "outputs": []
    },
    {
      "cell_type": "code",
      "metadata": {
        "colab_type": "code",
        "id": "tyQbDL1FXfU6",
        "colab": {}
      },
      "source": [
        "learn.unfreeze()"
      ],
      "execution_count": 0,
      "outputs": []
    },
    {
      "cell_type": "code",
      "metadata": {
        "colab_type": "code",
        "outputId": "c806d3a9-dc0d-44e1-e499-d21349b7ec5e",
        "id": "1OVpdr9lXfU_",
        "colab": {
          "base_uri": "https://localhost:8080/",
          "height": 359
        }
      },
      "source": [
        "learn.fit_one_cycle(10, max_lr=slice(1e-4, 1e-3)) "
      ],
      "execution_count": 0,
      "outputs": [
        {
          "output_type": "display_data",
          "data": {
            "text/html": [
              "<table border=\"1\" class=\"dataframe\">\n",
              "  <thead>\n",
              "    <tr style=\"text-align: left;\">\n",
              "      <th>epoch</th>\n",
              "      <th>train_loss</th>\n",
              "      <th>valid_loss</th>\n",
              "      <th>accuracy</th>\n",
              "      <th>time</th>\n",
              "    </tr>\n",
              "  </thead>\n",
              "  <tbody>\n",
              "    <tr>\n",
              "      <td>0</td>\n",
              "      <td>0.316576</td>\n",
              "      <td>0.337465</td>\n",
              "      <td>0.875867</td>\n",
              "      <td>00:21</td>\n",
              "    </tr>\n",
              "    <tr>\n",
              "      <td>1</td>\n",
              "      <td>0.242024</td>\n",
              "      <td>0.386181</td>\n",
              "      <td>0.879722</td>\n",
              "      <td>00:19</td>\n",
              "    </tr>\n",
              "    <tr>\n",
              "      <td>2</td>\n",
              "      <td>0.210254</td>\n",
              "      <td>0.347630</td>\n",
              "      <td>0.897456</td>\n",
              "      <td>00:19</td>\n",
              "    </tr>\n",
              "    <tr>\n",
              "      <td>3</td>\n",
              "      <td>0.155225</td>\n",
              "      <td>0.308265</td>\n",
              "      <td>0.904395</td>\n",
              "      <td>00:19</td>\n",
              "    </tr>\n",
              "    <tr>\n",
              "      <td>4</td>\n",
              "      <td>0.100611</td>\n",
              "      <td>0.306065</td>\n",
              "      <td>0.906708</td>\n",
              "      <td>00:19</td>\n",
              "    </tr>\n",
              "    <tr>\n",
              "      <td>5</td>\n",
              "      <td>0.057513</td>\n",
              "      <td>0.361757</td>\n",
              "      <td>0.912876</td>\n",
              "      <td>00:19</td>\n",
              "    </tr>\n",
              "    <tr>\n",
              "      <td>6</td>\n",
              "      <td>0.036341</td>\n",
              "      <td>0.429982</td>\n",
              "      <td>0.905166</td>\n",
              "      <td>00:19</td>\n",
              "    </tr>\n",
              "    <tr>\n",
              "      <td>7</td>\n",
              "      <td>0.023294</td>\n",
              "      <td>0.406546</td>\n",
              "      <td>0.904395</td>\n",
              "      <td>00:19</td>\n",
              "    </tr>\n",
              "    <tr>\n",
              "      <td>8</td>\n",
              "      <td>0.010453</td>\n",
              "      <td>0.402880</td>\n",
              "      <td>0.912876</td>\n",
              "      <td>00:19</td>\n",
              "    </tr>\n",
              "    <tr>\n",
              "      <td>9</td>\n",
              "      <td>0.006315</td>\n",
              "      <td>0.407022</td>\n",
              "      <td>0.912876</td>\n",
              "      <td>00:19</td>\n",
              "    </tr>\n",
              "  </tbody>\n",
              "</table>"
            ],
            "text/plain": [
              "<IPython.core.display.HTML object>"
            ]
          },
          "metadata": {
            "tags": []
          }
        }
      ]
    },
    {
      "cell_type": "code",
      "metadata": {
        "colab_type": "code",
        "outputId": "5d4f2f08-a158-40c1-d006-32c1a32942f5",
        "id": "_zWNg0_BXfVD",
        "colab": {
          "base_uri": "https://localhost:8080/",
          "height": 359
        }
      },
      "source": [
        "learn.fit_one_cycle(10, max_lr=slice(4e-4, 4e-3)) "
      ],
      "execution_count": 0,
      "outputs": [
        {
          "output_type": "display_data",
          "data": {
            "text/html": [
              "<table border=\"1\" class=\"dataframe\">\n",
              "  <thead>\n",
              "    <tr style=\"text-align: left;\">\n",
              "      <th>epoch</th>\n",
              "      <th>train_loss</th>\n",
              "      <th>valid_loss</th>\n",
              "      <th>accuracy</th>\n",
              "      <th>time</th>\n",
              "    </tr>\n",
              "  </thead>\n",
              "  <tbody>\n",
              "    <tr>\n",
              "      <td>0</td>\n",
              "      <td>0.021177</td>\n",
              "      <td>0.491995</td>\n",
              "      <td>0.892830</td>\n",
              "      <td>00:19</td>\n",
              "    </tr>\n",
              "    <tr>\n",
              "      <td>1</td>\n",
              "      <td>0.175878</td>\n",
              "      <td>0.448221</td>\n",
              "      <td>0.858134</td>\n",
              "      <td>00:19</td>\n",
              "    </tr>\n",
              "    <tr>\n",
              "      <td>2</td>\n",
              "      <td>0.187571</td>\n",
              "      <td>0.317070</td>\n",
              "      <td>0.911334</td>\n",
              "      <td>00:19</td>\n",
              "    </tr>\n",
              "    <tr>\n",
              "      <td>3</td>\n",
              "      <td>0.166740</td>\n",
              "      <td>0.326878</td>\n",
              "      <td>0.893601</td>\n",
              "      <td>00:19</td>\n",
              "    </tr>\n",
              "    <tr>\n",
              "      <td>4</td>\n",
              "      <td>0.140935</td>\n",
              "      <td>0.248986</td>\n",
              "      <td>0.929067</td>\n",
              "      <td>00:19</td>\n",
              "    </tr>\n",
              "    <tr>\n",
              "      <td>5</td>\n",
              "      <td>0.098822</td>\n",
              "      <td>0.233221</td>\n",
              "      <td>0.925983</td>\n",
              "      <td>00:19</td>\n",
              "    </tr>\n",
              "    <tr>\n",
              "      <td>6</td>\n",
              "      <td>0.056673</td>\n",
              "      <td>0.305897</td>\n",
              "      <td>0.923670</td>\n",
              "      <td>00:19</td>\n",
              "    </tr>\n",
              "    <tr>\n",
              "      <td>7</td>\n",
              "      <td>0.034304</td>\n",
              "      <td>0.333820</td>\n",
              "      <td>0.925983</td>\n",
              "      <td>00:19</td>\n",
              "    </tr>\n",
              "    <tr>\n",
              "      <td>8</td>\n",
              "      <td>0.016565</td>\n",
              "      <td>0.335454</td>\n",
              "      <td>0.922128</td>\n",
              "      <td>00:19</td>\n",
              "    </tr>\n",
              "    <tr>\n",
              "      <td>9</td>\n",
              "      <td>0.008686</td>\n",
              "      <td>0.331352</td>\n",
              "      <td>0.923670</td>\n",
              "      <td>00:19</td>\n",
              "    </tr>\n",
              "  </tbody>\n",
              "</table>"
            ],
            "text/plain": [
              "<IPython.core.display.HTML object>"
            ]
          },
          "metadata": {
            "tags": []
          }
        }
      ]
    },
    {
      "cell_type": "code",
      "metadata": {
        "colab_type": "code",
        "id": "VfmZ-460XfVF",
        "colab": {}
      },
      "source": [
        "#stage-2-resnext50_32x4d.pth\n",
        "learn.save('/content/gdrive/My Drive/Cancer/CD output_2L/stage-1-resnext50_32x4d_new')"
      ],
      "execution_count": 0,
      "outputs": []
    },
    {
      "cell_type": "code",
      "metadata": {
        "id": "4U4D5aRwd0Qm",
        "colab_type": "code",
        "colab": {}
      },
      "source": [
        "learn.save('/content/gdrive/My Drive/Cancer/CD output_2L/stage-2-resnext50_32x4d_new')"
      ],
      "execution_count": 0,
      "outputs": []
    },
    {
      "cell_type": "code",
      "metadata": {
        "colab_type": "code",
        "id": "Nl1-EL47XfVI",
        "colab": {}
      },
      "source": [
        "learn.load('/content/gdrive/My Drive/Cancer/CD output_2L/stage-2-senet154-1-channel')"
      ],
      "execution_count": 0,
      "outputs": []
    },
    {
      "cell_type": "code",
      "metadata": {
        "colab_type": "code",
        "id": "XTA_NK3WXfVK",
        "colab": {}
      },
      "source": [
        "learn.save('/content/gdrive/My Drive/Cancer/CD output_2L/stage-2-resnext50_32x4d')"
      ],
      "execution_count": 0,
      "outputs": []
    },
    {
      "cell_type": "code",
      "metadata": {
        "colab_type": "code",
        "id": "xzLdCq62XfVO",
        "colab": {}
      },
      "source": [
        "learn.save('/content/gdrive/My Drive/Cancer/CD output_2L/stage-2-senet154-jpg')"
      ],
      "execution_count": 0,
      "outputs": []
    },
    {
      "cell_type": "code",
      "metadata": {
        "colab_type": "code",
        "outputId": "752b133e-5f2d-43e4-9136-63b8e0bf5e92",
        "id": "DZCNevSNXfVQ",
        "colab": {
          "base_uri": "https://localhost:8080/",
          "height": 359
        }
      },
      "source": [
        "learn.fit_one_cycle(10, max_lr=slice(2e-4,2e-3)) "
      ],
      "execution_count": 0,
      "outputs": [
        {
          "output_type": "display_data",
          "data": {
            "text/html": [
              "<table border=\"1\" class=\"dataframe\">\n",
              "  <thead>\n",
              "    <tr style=\"text-align: left;\">\n",
              "      <th>epoch</th>\n",
              "      <th>train_loss</th>\n",
              "      <th>valid_loss</th>\n",
              "      <th>accuracy</th>\n",
              "      <th>time</th>\n",
              "    </tr>\n",
              "  </thead>\n",
              "  <tbody>\n",
              "    <tr>\n",
              "      <td>0</td>\n",
              "      <td>0.002585</td>\n",
              "      <td>0.395941</td>\n",
              "      <td>0.915960</td>\n",
              "      <td>00:21</td>\n",
              "    </tr>\n",
              "    <tr>\n",
              "      <td>1</td>\n",
              "      <td>0.048346</td>\n",
              "      <td>0.336619</td>\n",
              "      <td>0.905937</td>\n",
              "      <td>00:22</td>\n",
              "    </tr>\n",
              "    <tr>\n",
              "      <td>2</td>\n",
              "      <td>0.092747</td>\n",
              "      <td>0.331243</td>\n",
              "      <td>0.901311</td>\n",
              "      <td>00:21</td>\n",
              "    </tr>\n",
              "    <tr>\n",
              "      <td>3</td>\n",
              "      <td>0.095651</td>\n",
              "      <td>0.311497</td>\n",
              "      <td>0.904395</td>\n",
              "      <td>00:22</td>\n",
              "    </tr>\n",
              "    <tr>\n",
              "      <td>4</td>\n",
              "      <td>0.065956</td>\n",
              "      <td>0.350026</td>\n",
              "      <td>0.907479</td>\n",
              "      <td>00:22</td>\n",
              "    </tr>\n",
              "    <tr>\n",
              "      <td>5</td>\n",
              "      <td>0.037668</td>\n",
              "      <td>0.415003</td>\n",
              "      <td>0.915189</td>\n",
              "      <td>00:22</td>\n",
              "    </tr>\n",
              "    <tr>\n",
              "      <td>6</td>\n",
              "      <td>0.024445</td>\n",
              "      <td>0.370773</td>\n",
              "      <td>0.915189</td>\n",
              "      <td>00:22</td>\n",
              "    </tr>\n",
              "    <tr>\n",
              "      <td>7</td>\n",
              "      <td>0.013804</td>\n",
              "      <td>0.385999</td>\n",
              "      <td>0.922899</td>\n",
              "      <td>00:22</td>\n",
              "    </tr>\n",
              "    <tr>\n",
              "      <td>8</td>\n",
              "      <td>0.004539</td>\n",
              "      <td>0.382982</td>\n",
              "      <td>0.922128</td>\n",
              "      <td>00:22</td>\n",
              "    </tr>\n",
              "    <tr>\n",
              "      <td>9</td>\n",
              "      <td>0.002806</td>\n",
              "      <td>0.375815</td>\n",
              "      <td>0.922899</td>\n",
              "      <td>00:22</td>\n",
              "    </tr>\n",
              "  </tbody>\n",
              "</table>"
            ],
            "text/plain": [
              "<IPython.core.display.HTML object>"
            ]
          },
          "metadata": {
            "tags": []
          }
        }
      ]
    },
    {
      "cell_type": "code",
      "metadata": {
        "colab_type": "code",
        "id": "mVgB-SHHXfVW",
        "colab": {}
      },
      "source": [
        "learn.save('/content/gdrive/My Drive/Cancer/CD output_2L/stage-2-resnext50_32x4d-ver-2')"
      ],
      "execution_count": 0,
      "outputs": []
    },
    {
      "cell_type": "code",
      "metadata": {
        "id": "Yz1C0nNYXaLR",
        "colab_type": "code",
        "colab": {}
      },
      "source": [
        ""
      ],
      "execution_count": 0,
      "outputs": []
    },
    {
      "cell_type": "code",
      "metadata": {
        "id": "dyFo-uSaXaHB",
        "colab_type": "code",
        "colab": {}
      },
      "source": [
        ""
      ],
      "execution_count": 0,
      "outputs": []
    },
    {
      "cell_type": "code",
      "metadata": {
        "id": "9BxO2asIXaCs",
        "colab_type": "code",
        "colab": {}
      },
      "source": [
        "#### Densenet results"
      ],
      "execution_count": 0,
      "outputs": []
    },
    {
      "cell_type": "code",
      "metadata": {
        "id": "2EwrFvuUTJ1G",
        "colab_type": "code",
        "outputId": "b181e9a9-f4ff-43ce-b134-3638050cb83d",
        "colab": {
          "base_uri": "https://localhost:8080/",
          "height": 111
        }
      },
      "source": [
        "#learn.crit = hinge\n",
        "learn.fit_one_cycle(2)"
      ],
      "execution_count": 0,
      "outputs": [
        {
          "output_type": "display_data",
          "data": {
            "text/html": [
              "<table border=\"1\" class=\"dataframe\">\n",
              "  <thead>\n",
              "    <tr style=\"text-align: left;\">\n",
              "      <th>epoch</th>\n",
              "      <th>train_loss</th>\n",
              "      <th>valid_loss</th>\n",
              "      <th>accuracy</th>\n",
              "      <th>time</th>\n",
              "    </tr>\n",
              "  </thead>\n",
              "  <tbody>\n",
              "    <tr>\n",
              "      <td>0</td>\n",
              "      <td>0.470176</td>\n",
              "      <td>0.355927</td>\n",
              "      <td>0.875867</td>\n",
              "      <td>23:34</td>\n",
              "    </tr>\n",
              "    <tr>\n",
              "      <td>1</td>\n",
              "      <td>0.292663</td>\n",
              "      <td>0.333419</td>\n",
              "      <td>0.877409</td>\n",
              "      <td>00:22</td>\n",
              "    </tr>\n",
              "  </tbody>\n",
              "</table>"
            ],
            "text/plain": [
              "<IPython.core.display.HTML object>"
            ]
          },
          "metadata": {
            "tags": []
          }
        }
      ]
    },
    {
      "cell_type": "code",
      "metadata": {
        "id": "-oHsQgyjAckw",
        "colab_type": "code",
        "outputId": "1725d0a3-bebe-4a3a-d9ad-d2c24f32d3ad",
        "colab": {
          "base_uri": "https://localhost:8080/",
          "height": 302
        }
      },
      "source": [
        "learn.lr_find()\n",
        "learn.recorder.plot()"
      ],
      "execution_count": 0,
      "outputs": [
        {
          "output_type": "display_data",
          "data": {
            "text/html": [
              ""
            ],
            "text/plain": [
              "<IPython.core.display.HTML object>"
            ]
          },
          "metadata": {
            "tags": []
          }
        },
        {
          "output_type": "stream",
          "text": [
            "LR Finder is complete, type {learner_name}.recorder.plot() to see the graph.\n"
          ],
          "name": "stdout"
        },
        {
          "output_type": "display_data",
          "data": {
            "image/png": "[encoded data removed]",
            "text/plain": [
              "<Figure size 432x288 with 1 Axes>"
            ]
          },
          "metadata": {
            "tags": []
          }
        }
      ]
    },
    {
      "cell_type": "code",
      "metadata": {
        "id": "JHb6Fu8CY8dI",
        "colab_type": "code",
        "colab": {}
      },
      "source": [
        "learn.unfreeze()"
      ],
      "execution_count": 0,
      "outputs": []
    },
    {
      "cell_type": "code",
      "metadata": {
        "id": "3hw78fAOY8Xl",
        "colab_type": "code",
        "outputId": "81e2f01a-8d0d-4774-c761-93b2270104a2",
        "colab": {
          "base_uri": "https://localhost:8080/",
          "height": 359
        }
      },
      "source": [
        "learn.fit_one_cycle(10, max_lr=slice(1e-4, 1e-3)) "
      ],
      "execution_count": 0,
      "outputs": [
        {
          "output_type": "display_data",
          "data": {
            "text/html": [
              "<table border=\"1\" class=\"dataframe\">\n",
              "  <thead>\n",
              "    <tr style=\"text-align: left;\">\n",
              "      <th>epoch</th>\n",
              "      <th>train_loss</th>\n",
              "      <th>valid_loss</th>\n",
              "      <th>accuracy</th>\n",
              "      <th>time</th>\n",
              "    </tr>\n",
              "  </thead>\n",
              "  <tbody>\n",
              "    <tr>\n",
              "      <td>0</td>\n",
              "      <td>0.163106</td>\n",
              "      <td>0.332680</td>\n",
              "      <td>0.879722</td>\n",
              "      <td>00:22</td>\n",
              "    </tr>\n",
              "    <tr>\n",
              "      <td>1</td>\n",
              "      <td>0.146943</td>\n",
              "      <td>0.428609</td>\n",
              "      <td>0.844256</td>\n",
              "      <td>00:22</td>\n",
              "    </tr>\n",
              "    <tr>\n",
              "      <td>2</td>\n",
              "      <td>0.191804</td>\n",
              "      <td>0.310776</td>\n",
              "      <td>0.895143</td>\n",
              "      <td>00:22</td>\n",
              "    </tr>\n",
              "    <tr>\n",
              "      <td>3</td>\n",
              "      <td>0.141021</td>\n",
              "      <td>0.344731</td>\n",
              "      <td>0.884349</td>\n",
              "      <td>00:22</td>\n",
              "    </tr>\n",
              "    <tr>\n",
              "      <td>4</td>\n",
              "      <td>0.096154</td>\n",
              "      <td>0.346063</td>\n",
              "      <td>0.903624</td>\n",
              "      <td>00:21</td>\n",
              "    </tr>\n",
              "    <tr>\n",
              "      <td>5</td>\n",
              "      <td>0.057472</td>\n",
              "      <td>0.388240</td>\n",
              "      <td>0.900540</td>\n",
              "      <td>00:21</td>\n",
              "    </tr>\n",
              "    <tr>\n",
              "      <td>6</td>\n",
              "      <td>0.039563</td>\n",
              "      <td>0.399573</td>\n",
              "      <td>0.912105</td>\n",
              "      <td>00:21</td>\n",
              "    </tr>\n",
              "    <tr>\n",
              "      <td>7</td>\n",
              "      <td>0.027611</td>\n",
              "      <td>0.352894</td>\n",
              "      <td>0.898227</td>\n",
              "      <td>00:21</td>\n",
              "    </tr>\n",
              "    <tr>\n",
              "      <td>8</td>\n",
              "      <td>0.013139</td>\n",
              "      <td>0.372942</td>\n",
              "      <td>0.909021</td>\n",
              "      <td>00:21</td>\n",
              "    </tr>\n",
              "    <tr>\n",
              "      <td>9</td>\n",
              "      <td>0.006532</td>\n",
              "      <td>0.365169</td>\n",
              "      <td>0.909021</td>\n",
              "      <td>00:21</td>\n",
              "    </tr>\n",
              "  </tbody>\n",
              "</table>"
            ],
            "text/plain": [
              "<IPython.core.display.HTML object>"
            ]
          },
          "metadata": {
            "tags": []
          }
        }
      ]
    },
    {
      "cell_type": "code",
      "metadata": {
        "id": "_4WKEHHiCI92",
        "colab_type": "code",
        "outputId": "6756dd76-5716-4819-ba01-c4f67a721975",
        "colab": {
          "base_uri": "https://localhost:8080/",
          "height": 297
        }
      },
      "source": [
        "learn.fit_one_cycle(8, max_lr=slice(1e-4, 2e-3)) "
      ],
      "execution_count": 0,
      "outputs": [
        {
          "output_type": "display_data",
          "data": {
            "text/html": [
              "<table border=\"1\" class=\"dataframe\">\n",
              "  <thead>\n",
              "    <tr style=\"text-align: left;\">\n",
              "      <th>epoch</th>\n",
              "      <th>train_loss</th>\n",
              "      <th>valid_loss</th>\n",
              "      <th>accuracy</th>\n",
              "      <th>time</th>\n",
              "    </tr>\n",
              "  </thead>\n",
              "  <tbody>\n",
              "    <tr>\n",
              "      <td>0</td>\n",
              "      <td>0.010002</td>\n",
              "      <td>0.400354</td>\n",
              "      <td>0.906708</td>\n",
              "      <td>00:21</td>\n",
              "    </tr>\n",
              "    <tr>\n",
              "      <td>1</td>\n",
              "      <td>0.103990</td>\n",
              "      <td>0.759434</td>\n",
              "      <td>0.908250</td>\n",
              "      <td>00:21</td>\n",
              "    </tr>\n",
              "    <tr>\n",
              "      <td>2</td>\n",
              "      <td>0.134845</td>\n",
              "      <td>0.270346</td>\n",
              "      <td>0.912876</td>\n",
              "      <td>00:21</td>\n",
              "    </tr>\n",
              "    <tr>\n",
              "      <td>3</td>\n",
              "      <td>0.085894</td>\n",
              "      <td>0.321639</td>\n",
              "      <td>0.906708</td>\n",
              "      <td>00:22</td>\n",
              "    </tr>\n",
              "    <tr>\n",
              "      <td>4</td>\n",
              "      <td>0.038241</td>\n",
              "      <td>0.391713</td>\n",
              "      <td>0.910563</td>\n",
              "      <td>00:21</td>\n",
              "    </tr>\n",
              "    <tr>\n",
              "      <td>5</td>\n",
              "      <td>0.019694</td>\n",
              "      <td>0.392868</td>\n",
              "      <td>0.914418</td>\n",
              "      <td>00:21</td>\n",
              "    </tr>\n",
              "    <tr>\n",
              "      <td>6</td>\n",
              "      <td>0.012241</td>\n",
              "      <td>0.388516</td>\n",
              "      <td>0.914418</td>\n",
              "      <td>00:21</td>\n",
              "    </tr>\n",
              "    <tr>\n",
              "      <td>7</td>\n",
              "      <td>0.007500</td>\n",
              "      <td>0.384067</td>\n",
              "      <td>0.920586</td>\n",
              "      <td>00:21</td>\n",
              "    </tr>\n",
              "  </tbody>\n",
              "</table>"
            ],
            "text/plain": [
              "<IPython.core.display.HTML object>"
            ]
          },
          "metadata": {
            "tags": []
          }
        }
      ]
    },
    {
      "cell_type": "code",
      "metadata": {
        "id": "GIdUbidPUapl",
        "colab_type": "code",
        "colab": {}
      },
      "source": [
        "#stage-2-resnext50_32x4d.pth\n"
      ],
      "execution_count": 0,
      "outputs": []
    },
    {
      "cell_type": "code",
      "metadata": {
        "id": "744KsjiWY8Ty",
        "colab_type": "code",
        "colab": {}
      },
      "source": [
        "learn.load('/content/gdrive/My Drive/Cancer/CD output_2L/stage-2-senet154-1-channel')"
      ],
      "execution_count": 0,
      "outputs": []
    },
    {
      "cell_type": "code",
      "metadata": {
        "id": "XdrhdiXKgtYS",
        "colab_type": "code",
        "colab": {}
      },
      "source": [
        "learn.save('/content/gdrive/My Drive/Cancer/CD output_2L/stage-1-senet154-jpg')"
      ],
      "execution_count": 0,
      "outputs": []
    },
    {
      "cell_type": "code",
      "metadata": {
        "id": "y4Cr7V_-nlp4",
        "colab_type": "code",
        "colab": {}
      },
      "source": [
        "learn.save('/content/gdrive/My Drive/Cancer/CD output_2L/stage-2-senet154-jpg')"
      ],
      "execution_count": 0,
      "outputs": []
    },
    {
      "cell_type": "code",
      "metadata": {
        "id": "be56CeviY8QL",
        "colab_type": "code",
        "outputId": "752b133e-5f2d-43e4-9136-63b8e0bf5e92",
        "colab": {
          "base_uri": "https://localhost:8080/",
          "height": 359
        }
      },
      "source": [
        "learn.fit_one_cycle(10, max_lr=slice(2e-4,2e-3)) "
      ],
      "execution_count": 0,
      "outputs": [
        {
          "output_type": "display_data",
          "data": {
            "text/html": [
              "<table border=\"1\" class=\"dataframe\">\n",
              "  <thead>\n",
              "    <tr style=\"text-align: left;\">\n",
              "      <th>epoch</th>\n",
              "      <th>train_loss</th>\n",
              "      <th>valid_loss</th>\n",
              "      <th>accuracy</th>\n",
              "      <th>time</th>\n",
              "    </tr>\n",
              "  </thead>\n",
              "  <tbody>\n",
              "    <tr>\n",
              "      <td>0</td>\n",
              "      <td>0.002585</td>\n",
              "      <td>0.395941</td>\n",
              "      <td>0.915960</td>\n",
              "      <td>00:21</td>\n",
              "    </tr>\n",
              "    <tr>\n",
              "      <td>1</td>\n",
              "      <td>0.048346</td>\n",
              "      <td>0.336619</td>\n",
              "      <td>0.905937</td>\n",
              "      <td>00:22</td>\n",
              "    </tr>\n",
              "    <tr>\n",
              "      <td>2</td>\n",
              "      <td>0.092747</td>\n",
              "      <td>0.331243</td>\n",
              "      <td>0.901311</td>\n",
              "      <td>00:21</td>\n",
              "    </tr>\n",
              "    <tr>\n",
              "      <td>3</td>\n",
              "      <td>0.095651</td>\n",
              "      <td>0.311497</td>\n",
              "      <td>0.904395</td>\n",
              "      <td>00:22</td>\n",
              "    </tr>\n",
              "    <tr>\n",
              "      <td>4</td>\n",
              "      <td>0.065956</td>\n",
              "      <td>0.350026</td>\n",
              "      <td>0.907479</td>\n",
              "      <td>00:22</td>\n",
              "    </tr>\n",
              "    <tr>\n",
              "      <td>5</td>\n",
              "      <td>0.037668</td>\n",
              "      <td>0.415003</td>\n",
              "      <td>0.915189</td>\n",
              "      <td>00:22</td>\n",
              "    </tr>\n",
              "    <tr>\n",
              "      <td>6</td>\n",
              "      <td>0.024445</td>\n",
              "      <td>0.370773</td>\n",
              "      <td>0.915189</td>\n",
              "      <td>00:22</td>\n",
              "    </tr>\n",
              "    <tr>\n",
              "      <td>7</td>\n",
              "      <td>0.013804</td>\n",
              "      <td>0.385999</td>\n",
              "      <td>0.922899</td>\n",
              "      <td>00:22</td>\n",
              "    </tr>\n",
              "    <tr>\n",
              "      <td>8</td>\n",
              "      <td>0.004539</td>\n",
              "      <td>0.382982</td>\n",
              "      <td>0.922128</td>\n",
              "      <td>00:22</td>\n",
              "    </tr>\n",
              "    <tr>\n",
              "      <td>9</td>\n",
              "      <td>0.002806</td>\n",
              "      <td>0.375815</td>\n",
              "      <td>0.922899</td>\n",
              "      <td>00:22</td>\n",
              "    </tr>\n",
              "  </tbody>\n",
              "</table>"
            ],
            "text/plain": [
              "<IPython.core.display.HTML object>"
            ]
          },
          "metadata": {
            "tags": []
          }
        }
      ]
    },
    {
      "cell_type": "code",
      "metadata": {
        "id": "Q3cSM1j6UqNJ",
        "colab_type": "code",
        "colab": {}
      },
      "source": [
        "learn.save('/content/gdrive/My Drive/Cancer/CD output_2L/stage-2-resnext50_32x4d-ver-2')"
      ],
      "execution_count": 0,
      "outputs": []
    },
    {
      "cell_type": "code",
      "metadata": {
        "id": "xV5Xq4xOaTp9",
        "colab_type": "code",
        "colab": {}
      },
      "source": [
        "learn.load('/content/gdrive/My Drive/Cancer/CD output_2L/stage-2-resnext50_32x4d-ver-2')"
      ],
      "execution_count": 0,
      "outputs": []
    },
    {
      "cell_type": "code",
      "metadata": {
        "id": "Y7EGwIsKBveO",
        "colab_type": "code",
        "colab": {}
      },
      "source": [
        ""
      ],
      "execution_count": 0,
      "outputs": []
    },
    {
      "cell_type": "code",
      "metadata": {
        "id": "9Iu71QudBvaK",
        "colab_type": "code",
        "colab": {}
      },
      "source": [
        ""
      ],
      "execution_count": 0,
      "outputs": []
    },
    {
      "cell_type": "code",
      "metadata": {
        "id": "-Hq3egI6adDH",
        "colab_type": "code",
        "colab": {}
      },
      "source": [
        "def rand_by_mask(mask): return np.random.choice(np.where(mask)[0], 4, replace=False)\n",
        "def rand_by_correct(is_correct): return rand_by_mask((preds == data.val_y)==is_correct)\n",
        "\n",
        "def plot_val_with_title(idxs, title):\n",
        "    imgs = np.stack([data.val_ds[x][0] for x in idxs])\n",
        "    title_probs = [probs[x] for x in idxs]\n",
        "    print(title)\n",
        "    return plots(data.val_ds.denorm(imgs), rows=1, titles=title_probs)\n",
        "\n",
        "def plots(ims, figsize=(12,6), rows=1, titles=None):\n",
        "    f = plt.figure(figsize=figsize)\n",
        "    for i in range(len(ims)):\n",
        "        sp = f.add_subplot(rows, len(ims)//rows, i+1)\n",
        "        sp.axis('Off')\n",
        "        if titles is not None: sp.set_title(titles[i], fontsize=16)\n",
        "        plt.imshow(ims[i])\n",
        "\n",
        "def load_img_id(ds, idx): return np.array(PIL.Image.open(PATH+ds.fnames[idx]))\n",
        "\n",
        "def plot_val_with_title(idxs, title):\n",
        "    imgs = [load_img_id(data.val_ds,x) for x in idxs]\n",
        "    title_probs = [probs[x] for x in idxs]\n",
        "    print(title)\n",
        "    return plots(imgs, rows=1, titles=title_probs, figsize=(16,8))\n",
        "\n",
        "def most_by_mask(mask, mult):\n",
        "    idxs = np.where(mask)[0]\n",
        "    return idxs[np.argsort(mult * probs[idxs])[:4]]\n",
        "\n",
        "def most_by_correct(y, is_correct): \n",
        "    mult = -1 if (y==1)==is_correct else 1\n",
        "    return most_by_mask((preds == data.val_y)==is_correct & (data.val_y == y), mult)"
      ],
      "execution_count": 0,
      "outputs": []
    },
    {
      "cell_type": "code",
      "metadata": {
        "id": "nksaHj1laf8z",
        "colab_type": "code",
        "colab": {}
      },
      "source": [
        "plot_val_with_title(most_by_correct(0, False), \"Most incorrect cancerous\")"
      ],
      "execution_count": 0,
      "outputs": []
    },
    {
      "cell_type": "code",
      "metadata": {
        "id": "EkU6PWdWaf6A",
        "colab_type": "code",
        "colab": {}
      },
      "source": [
        ""
      ],
      "execution_count": 0,
      "outputs": []
    },
    {
      "cell_type": "code",
      "metadata": {
        "id": "6s9MCE_Laf2F",
        "colab_type": "code",
        "colab": {}
      },
      "source": [
        ""
      ],
      "execution_count": 0,
      "outputs": []
    },
    {
      "cell_type": "code",
      "metadata": {
        "id": "AkoiIV_OadAP",
        "colab_type": "code",
        "colab": {}
      },
      "source": [
        ""
      ],
      "execution_count": 0,
      "outputs": []
    },
    {
      "cell_type": "code",
      "metadata": {
        "id": "1VJkmoSxg5u4",
        "colab_type": "code",
        "colab": {}
      },
      "source": [
        "preds,y,losses = learn.get_preds(with_loss = True)"
      ],
      "execution_count": 0,
      "outputs": []
    },
    {
      "cell_type": "code",
      "metadata": {
        "id": "sh7p5eegY8Ly",
        "colab_type": "code",
        "colab": {}
      },
      "source": [
        "learn.load('/content/gdrive/My Drive/Cancer/data3/models/stage-2-senet.pth')"
      ],
      "execution_count": 0,
      "outputs": []
    },
    {
      "cell_type": "code",
      "metadata": {
        "colab_type": "code",
        "id": "k4oH1rZ5ZfW8",
        "colab": {}
      },
      "source": [
        "preds2,y,losses2 = learn.get_preds(ds_type=DatasetType.Test, with_loss = True)\n",
        "preds = preds2"
      ],
      "execution_count": 0,
      "outputs": []
    },
    {
      "cell_type": "code",
      "metadata": {
        "colab_type": "code",
        "id": "O4rkhRb9ZfXA",
        "colab": {}
      },
      "source": [
        "preds2,y,losses2 = learn.get_preds(ds_type=DatasetType.Test, with_loss = True)\n",
        "preds = preds2"
      ],
      "execution_count": 0,
      "outputs": []
    },
    {
      "cell_type": "code",
      "metadata": {
        "id": "cnYhe_BuiK5T",
        "colab_type": "code",
        "outputId": "e45b82ea-d6d3-45df-abcd-4b06142f3908",
        "colab": {
          "base_uri": "https://localhost:8080/",
          "height": 34
        }
      },
      "source": [
        "preds.shape"
      ],
      "execution_count": 0,
      "outputs": [
        {
          "output_type": "execute_result",
          "data": {
            "text/plain": [
              "torch.Size([282, 2])"
            ]
          },
          "metadata": {
            "tags": []
          },
          "execution_count": 26
        }
      ]
    },
    {
      "cell_type": "code",
      "metadata": {
        "id": "abMDYpFEf9NM",
        "colab_type": "code",
        "colab": {}
      },
      "source": [
        "### for negative labels\n",
        "import numpy as np\n",
        "N = 575\n",
        "neg = np.zeros(N)\n",
        "for i in range(N):\n",
        "  if preds[i][0]>0.3:\n",
        "    neg[i] = 1\n",
        "\n",
        "TN = np.sum(neg)  "
      ],
      "execution_count": 0,
      "outputs": []
    },
    {
      "cell_type": "code",
      "metadata": {
        "id": "lkGd3t8CiT1Q",
        "colab_type": "code",
        "outputId": "598c5dbe-9fd9-4024-dc4a-af5046a11734",
        "colab": {
          "base_uri": "https://localhost:8080/",
          "height": 34
        }
      },
      "source": [
        "TN"
      ],
      "execution_count": 0,
      "outputs": [
        {
          "output_type": "execute_result",
          "data": {
            "text/plain": [
              "243.0"
            ]
          },
          "metadata": {
            "tags": []
          },
          "execution_count": 159
        }
      ]
    },
    {
      "cell_type": "code",
      "metadata": {
        "id": "38ohtcP0gdGm",
        "colab_type": "code",
        "colab": {}
      },
      "source": [
        "### for positive labels\n",
        "import numpy as np\n",
        "N = 101\n",
        "pos = np.zeros(N)\n",
        "for i in range(N):\n",
        "  if preds[i][1]>0.5:\n",
        "    pos[i] = 1\n",
        "\n",
        "TP = np.sum(pos)  "
      ],
      "execution_count": 0,
      "outputs": []
    },
    {
      "cell_type": "code",
      "metadata": {
        "id": "c94hUeefjVnA",
        "colab_type": "code",
        "colab": {}
      },
      "source": [
        "TP"
      ],
      "execution_count": 0,
      "outputs": []
    },
    {
      "cell_type": "code",
      "metadata": {
        "id": "Mplfvl9cg9wZ",
        "colab_type": "code",
        "colab": {}
      },
      "source": [
        ""
      ],
      "execution_count": 0,
      "outputs": []
    },
    {
      "cell_type": "code",
      "metadata": {
        "colab_type": "code",
        "id": "vmR_uzQ4g-iI",
        "colab": {}
      },
      "source": [
        "### for Scaled negative labels\n",
        "import numpy as np\n",
        "N = 1340\n",
        "neg = np.zeros(N)\n",
        "for i in range(N):\n",
        "  if preds[i][0]>0.5:\n",
        "    neg[i] = 1\n",
        "\n",
        "TN = np.sum(neg)  \n",
        "TN"
      ],
      "execution_count": 0,
      "outputs": []
    },
    {
      "cell_type": "code",
      "metadata": {
        "id": "MKZcxzLWEhpd",
        "colab_type": "code",
        "colab": {}
      },
      "source": [
        "TN"
      ],
      "execution_count": 0,
      "outputs": []
    },
    {
      "cell_type": "code",
      "metadata": {
        "colab_type": "code",
        "id": "lB7Q-UJqg-iP",
        "outputId": "2f2aa642-6997-4ffd-ed89-d2f4cabbea9b",
        "colab": {
          "base_uri": "https://localhost:8080/",
          "height": 34
        }
      },
      "source": [
        "### for Scaled positive labels\n",
        "import numpy as np\n",
        "N = 282\n",
        "pos = np.zeros(N)\n",
        "for i in range(N):\n",
        "  if preds[i][1]>0.35:\n",
        "    pos[i] = 1\n",
        "\n",
        "TP = np.sum(pos)  \n",
        "TP"
      ],
      "execution_count": 0,
      "outputs": [
        {
          "output_type": "execute_result",
          "data": {
            "text/plain": [
              "189.0"
            ]
          },
          "metadata": {
            "tags": []
          },
          "execution_count": 29
        }
      ]
    },
    {
      "cell_type": "code",
      "metadata": {
        "colab_type": "code",
        "outputId": "b18ce8fc-bd1c-4aff-d653-9c693fe11649",
        "id": "IUAknf29ZfXE",
        "colab": {
          "base_uri": "https://localhost:8080/",
          "height": 35
        }
      },
      "source": [
        "y"
      ],
      "execution_count": 0,
      "outputs": [
        {
          "output_type": "execute_result",
          "data": {
            "text/plain": [
              "tensor([1, 1, 1,  ..., 0, 0, 0])"
            ]
          },
          "metadata": {
            "tags": []
          },
          "execution_count": 49
        }
      ]
    },
    {
      "cell_type": "code",
      "metadata": {
        "colab_type": "code",
        "outputId": "cd92fd7d-b00d-4e63-ea06-c85bfda94b76",
        "id": "1r8yAH9hZfXG",
        "colab": {
          "base_uri": "https://localhost:8080/",
          "height": 35
        }
      },
      "source": [
        "y.shape"
      ],
      "execution_count": 0,
      "outputs": [
        {
          "output_type": "execute_result",
          "data": {
            "text/plain": [
              "torch.Size([1297])"
            ]
          },
          "metadata": {
            "tags": []
          },
          "execution_count": 50
        }
      ]
    },
    {
      "cell_type": "code",
      "metadata": {
        "colab_type": "code",
        "id": "uSnoh-Z3ZfXM",
        "colab": {}
      },
      "source": [
        "### Test dataset\n",
        "#preds,y,losses = learn.get_preds(with_loss = True)\n",
        "preds = preds2\n",
        "losses = losses2\n",
        "import tensorflow as tf\n",
        "sess = tf.Session()\n",
        "with sess.as_default():\n",
        "  tensor = tf.constant(preds)\n",
        "  npa = tensor.eval()\n",
        "  t2 = tf.constant(y)\n",
        "  y_array = t2.eval()\n",
        "ds = pd.DataFrame(npa)\n",
        "ds.columns = data.classes  \n",
        "ds.to_csv('/content/gdrive/My Drive/Cancer/CD output_2L/outputs/se_resnext50_32x4d.csv')"
      ],
      "execution_count": 0,
      "outputs": []
    },
    {
      "cell_type": "code",
      "metadata": {
        "id": "T4ybLmdZZYAX",
        "colab_type": "code",
        "outputId": "28c50aa5-8aa5-44db-a560-e261a92d80d1",
        "colab": {
          "base_uri": "https://localhost:8080/",
          "height": 311
        }
      },
      "source": [
        "interp = ClassificationInterpretation.from_learner(learn)\n",
        "interp.plot_confusion_matrix()\n",
        "#plt.savefig('/content/gdrive/My Drive/Cancer/CD output_2L/outputs/se_resnet50.jpg')"
      ],
      "execution_count": 0,
      "outputs": [
        {
          "output_type": "display_data",
          "data": {
            "image/png": "[encoded data removed]",
            "text/plain": [
              "<Figure size 432x288 with 1 Axes>"
            ]
          },
          "metadata": {
            "tags": []
          }
        }
      ]
    }
  ]
}